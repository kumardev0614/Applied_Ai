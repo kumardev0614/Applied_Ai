{
 "cells": [
  {
   "cell_type": "markdown",
   "metadata": {},
   "source": [
    "# Bag of Words"
   ]
  },
  {
   "cell_type": "markdown",
   "metadata": {},
   "source": [
    "<pre>\n",
    "This technique is used to convert text data into vectors.\n",
    "\n",
    "In this technique\n",
    "1) We take all the text data (all strings or all documents) and make a vocabulary/set of all unique words.\n",
    "   In given example all r1,r2,r3,r4\n",
    "   \n",
    "2) Then we compare all unique words in dictionary with each string(r1,r2 etc...)\n",
    "   If word is in the string/document then assign 1 in it's vector form else assign 0.\n",
    "   That's it. That's how we got vectors containing 0s and 1s for each string.\n",
    " \n",
    "Note: We are trying to make a code to understand basic working of \"bag of words\" by our own code.\n",
    "      It will be implemented differently in python.\n",
    "</pre>"
   ]
  },
  {
   "cell_type": "code",
   "execution_count": 1,
   "metadata": {},
   "outputs": [],
   "source": [
    "# These are 4 strings or documents of food reviews. We will apply bag of words on these.\n",
    "\n",
    "r1 = \"This pasta is very tasty and affordable.\"\n",
    "r2 = \"This pasta is not tasty and is affordable.\"\n",
    "r3 = \"This pasta. is delicious, and cheap\"\n",
    "r4 = \"pasta is tasty, pasta tastes good.\""
   ]
  },
  {
   "cell_type": "code",
   "execution_count": 2,
   "metadata": {},
   "outputs": [
    {
     "data": {
      "text/plain": [
       "['This', 'pasta.', 'is', 'delicious,', 'and', 'cheap']"
      ]
     },
     "execution_count": 2,
     "metadata": {},
     "output_type": "execute_result"
    }
   ],
   "source": [
    "r3.split() # To make a dictionary we need strings converted into single words. But split() function also considers symbols."
   ]
  },
  {
   "cell_type": "code",
   "execution_count": 3,
   "metadata": {},
   "outputs": [
    {
     "name": "stdout",
     "output_type": "stream",
     "text": [
      "This pasta  is delicious  and cheap\n",
      "This_pasta__is_delicious__and_cheap\n",
      "['This', 'pasta', 'is', 'delicious', 'and', 'cheap']\n"
     ]
    }
   ],
   "source": [
    "import re  # importing regex lib.\n",
    "\n",
    "print(re.sub(r'[^\\w]', ' ', r3))   # from string replace all symbols with space.\n",
    "print(re.sub(r'[^\\w]', '_', r3))   # from string replace all symbols with underscore.\n",
    "\n",
    "# Now we can replace all symbols with space. We can apply split() that will split the string by space.\n",
    "print(re.sub(r'[^\\w]', ' ', r3).split())  # Now this can be used in making dict."
   ]
  },
  {
   "cell_type": "code",
   "execution_count": 4,
   "metadata": {},
   "outputs": [],
   "source": [
    "rev_list = [r1, r2, r3, r4]\n",
    "\n",
    "# We have to loop through all reviews/strings to make dictionary(bag of words). So we need them inside a list.\n",
    "# This r_list can be seen as array of all strings/documents.\n",
    "#\n",
    "#     [r1\n",
    "# X =  r2\n",
    "#      r3\n",
    "#      r4]"
   ]
  },
  {
   "cell_type": "code",
   "execution_count": 5,
   "metadata": {},
   "outputs": [
    {
     "data": {
      "text/plain": [
       "['This pasta is very tasty and affordable.',\n",
       " 'This pasta is not tasty and is affordable.',\n",
       " 'This pasta. is delicious, and cheap',\n",
       " 'pasta is tasty, pasta tastes good.']"
      ]
     },
     "execution_count": 5,
     "metadata": {},
     "output_type": "execute_result"
    }
   ],
   "source": [
    "rev_list"
   ]
  },
  {
   "cell_type": "code",
   "execution_count": 6,
   "metadata": {},
   "outputs": [],
   "source": [
    "# Here we are making bag of words(dictionary of unique values).\n",
    "def vocabulary(r_list):\n",
    "    d = {}\n",
    "    for rev in r_list:                   # Take a review, let rev = r3\n",
    "        s = re.sub(r'[^\\w]', ' ', rev)   # replace symbols and split it. s = ['This', 'pasta', 'is', 'delicious', 'and', cheap']\n",
    "        for word in s.split():           # word = \"This\"\n",
    "            d[word] = 0                  # d['This'] = 0\n",
    "    return d                             # d = {\"This\":0}"
   ]
  },
  {
   "cell_type": "code",
   "execution_count": 7,
   "metadata": {},
   "outputs": [],
   "source": [
    "def makeVector(strng, dct):\n",
    "    l = []\n",
    "    s = re.sub(r'[^\\w]', ' ', strng)\n",
    "    for word in s.split():\n",
    "        dct[word] = dct[word] + 1\n",
    "    \n",
    "    l = list(dct.values())\n",
    "    del dct\n",
    "    return l"
   ]
  },
  {
   "cell_type": "code",
   "execution_count": 8,
   "metadata": {},
   "outputs": [],
   "source": [
    "d = vocabulary(rev_list)"
   ]
  },
  {
   "cell_type": "code",
   "execution_count": 31,
   "metadata": {},
   "outputs": [
    {
     "data": {
      "text/plain": [
       "{'This': 0,\n",
       " 'pasta': 0,\n",
       " 'is': 0,\n",
       " 'very': 0,\n",
       " 'tasty': 0,\n",
       " 'and': 0,\n",
       " 'affordable': 0,\n",
       " 'not': 0,\n",
       " 'delicious': 0,\n",
       " 'cheap': 0,\n",
       " 'tastes': 0,\n",
       " 'good': 0}"
      ]
     },
     "execution_count": 31,
     "metadata": {},
     "output_type": "execute_result"
    }
   ],
   "source": [
    "d"
   ]
  },
  {
   "cell_type": "code",
   "execution_count": 9,
   "metadata": {},
   "outputs": [
    {
     "data": {
      "text/plain": [
       "[1, 1, 2, 0, 1, 1, 1, 1, 0, 0, 0, 0]"
      ]
     },
     "execution_count": 9,
     "metadata": {},
     "output_type": "execute_result"
    }
   ],
   "source": [
    "makeVector(r2, d.copy())"
   ]
  },
  {
   "cell_type": "code",
   "execution_count": 10,
   "metadata": {},
   "outputs": [
    {
     "data": {
      "text/plain": [
       "[0, 2, 1, 0, 1, 0, 0, 0, 0, 0, 1, 1]"
      ]
     },
     "execution_count": 10,
     "metadata": {},
     "output_type": "execute_result"
    }
   ],
   "source": [
    "makeVector(r4, d.copy())"
   ]
  },
  {
   "cell_type": "code",
   "execution_count": 11,
   "metadata": {},
   "outputs": [
    {
     "data": {
      "text/plain": [
       "{'This': 0,\n",
       " 'pasta': 0,\n",
       " 'is': 0,\n",
       " 'very': 0,\n",
       " 'tasty': 0,\n",
       " 'and': 0,\n",
       " 'affordable': 0,\n",
       " 'not': 0,\n",
       " 'delicious': 0,\n",
       " 'cheap': 0,\n",
       " 'tastes': 0,\n",
       " 'good': 0}"
      ]
     },
     "execution_count": 11,
     "metadata": {},
     "output_type": "execute_result"
    }
   ],
   "source": [
    "d"
   ]
  },
  {
   "cell_type": "code",
   "execution_count": 12,
   "metadata": {},
   "outputs": [
    {
     "name": "stdout",
     "output_type": "stream",
     "text": [
      "[1, 1, 1, 1, 1, 1, 1, 0, 0, 0, 0, 0]\n",
      "[1, 1, 2, 0, 1, 1, 1, 1, 0, 0, 0, 0]\n",
      "[1, 1, 1, 0, 0, 1, 0, 0, 1, 1, 0, 0]\n",
      "[0, 2, 1, 0, 1, 0, 0, 0, 0, 0, 1, 1]\n"
     ]
    }
   ],
   "source": [
    "for rev in rev_list:\n",
    "    print(makeVector(rev, d.copy()))"
   ]
  },
  {
   "cell_type": "code",
   "execution_count": 13,
   "metadata": {},
   "outputs": [],
   "source": [
    "r1 = \"This pasta is very tasty and affordable.\"\n",
    "r2 = \"This pasta is not tasty and is affordable.\"\n",
    "r3 = \"This pasta. is delicious, and cheap\"\n",
    "r4 = \"pasta is tasty, pasta tastes good.\""
   ]
  },
  {
   "cell_type": "code",
   "execution_count": 14,
   "metadata": {},
   "outputs": [],
   "source": [
    "bv1 = makeVector(r1, d.copy())\n",
    "bv2 = makeVector(r2, d.copy())\n",
    "bv3 = makeVector(r3, d.copy())\n",
    "bv4 = makeVector(r4, d.copy())"
   ]
  },
  {
   "cell_type": "code",
   "execution_count": 15,
   "metadata": {},
   "outputs": [
    {
     "name": "stdout",
     "output_type": "stream",
     "text": [
      "[1, 1, 1, 1, 1, 1, 1, 0, 0, 0, 0, 0] [1, 1, 2, 0, 1, 1, 1, 1, 0, 0, 0, 0] [1, 1, 1, 0, 0, 1, 0, 0, 1, 1, 0, 0] [0, 2, 1, 0, 1, 0, 0, 0, 0, 0, 1, 1]\n"
     ]
    }
   ],
   "source": [
    "print(bv1, bv2, bv3, bv4)"
   ]
  },
  {
   "cell_type": "markdown",
   "metadata": {},
   "source": [
    "# TF - IDF"
   ]
  },
  {
   "cell_type": "code",
   "execution_count": 16,
   "metadata": {},
   "outputs": [],
   "source": [
    "d1 = \"cat dog lion cow cat\"\n",
    "d2 = \"cat cat cat dog\"\n",
    "d3 = \"dog cat\"\n",
    "d4 = \"ox cow rat dog\""
   ]
  },
  {
   "cell_type": "code",
   "execution_count": 17,
   "metadata": {},
   "outputs": [
    {
     "name": "stdout",
     "output_type": "stream",
     "text": [
      "cat dog lion cow cat\n",
      "cat cat cat dog\n",
      "dog cat\n",
      "ox cow rat dog\n"
     ]
    }
   ],
   "source": [
    "Dc = [d1, d2, d3, d4]\n",
    "for doc in Dc:\n",
    "    print(doc)"
   ]
  },
  {
   "cell_type": "code",
   "execution_count": 18,
   "metadata": {},
   "outputs": [
    {
     "name": "stdout",
     "output_type": "stream",
     "text": [
      "{'cat': 0, 'dog': 0, 'lion': 0, 'cow': 0, 'ox': 0, 'rat': 0}\n"
     ]
    }
   ],
   "source": [
    "voc = vocabulary(Dc)\n",
    "print(voc)"
   ]
  },
  {
   "cell_type": "code",
   "execution_count": 19,
   "metadata": {},
   "outputs": [],
   "source": [
    "v1 = makeVector(d1, voc.copy())\n",
    "v2 = makeVector(d2, voc.copy())\n",
    "v3 = makeVector(d3, voc.copy())\n",
    "v4 = makeVector(d4, voc.copy())"
   ]
  },
  {
   "cell_type": "code",
   "execution_count": 20,
   "metadata": {},
   "outputs": [
    {
     "name": "stdout",
     "output_type": "stream",
     "text": [
      "[2, 1, 1, 1, 0, 0]\n",
      "[3, 1, 0, 0, 0, 0]\n",
      "[1, 1, 0, 0, 0, 0]\n",
      "[0, 1, 0, 1, 1, 1]\n"
     ]
    }
   ],
   "source": [
    "bow_vectors = [v1, v2, v3, v4]\n",
    "for vec in bow_vectors:\n",
    "    print(vec)"
   ]
  },
  {
   "cell_type": "code",
   "execution_count": 21,
   "metadata": {},
   "outputs": [
    {
     "data": {
      "text/plain": [
       "[[1, 1, 1, 1, 0, 0],\n",
       " [1, 1, 0, 0, 0, 0],\n",
       " [1, 1, 0, 0, 0, 0],\n",
       " [0, 1, 0, 1, 1, 1]]"
      ]
     },
     "execution_count": 21,
     "metadata": {},
     "output_type": "execute_result"
    }
   ],
   "source": [
    "# BoW to Binary BoW\n",
    "bin_vec = []\n",
    "for vec in bow_vectors:\n",
    "    temp = []\n",
    "    for value in vec:\n",
    "        if value != 0:\n",
    "            temp.append(1)\n",
    "        else:\n",
    "            temp.append(0)\n",
    "    bin_vec.append(temp)\n",
    "    \n",
    "bin_vec"
   ]
  },
  {
   "cell_type": "code",
   "execution_count": 22,
   "metadata": {},
   "outputs": [],
   "source": [
    "import numpy as np"
   ]
  },
  {
   "cell_type": "code",
   "execution_count": 23,
   "metadata": {},
   "outputs": [
    {
     "data": {
      "text/plain": [
       "array([[1, 1, 1, 1, 0, 0],\n",
       "       [1, 1, 0, 0, 0, 0],\n",
       "       [1, 1, 0, 0, 0, 0],\n",
       "       [0, 1, 0, 1, 1, 1]])"
      ]
     },
     "execution_count": 23,
     "metadata": {},
     "output_type": "execute_result"
    }
   ],
   "source": [
    "bow_arr = np.array(bin_vec)\n",
    "bow_arr"
   ]
  },
  {
   "cell_type": "code",
   "execution_count": 24,
   "metadata": {},
   "outputs": [
    {
     "data": {
      "text/plain": [
       "array([3, 4, 1, 2, 1, 1])"
      ]
     },
     "execution_count": 24,
     "metadata": {},
     "output_type": "execute_result"
    }
   ],
   "source": [
    "ni = bow_arr.sum(axis=0)\n",
    "ni"
   ]
  },
  {
   "cell_type": "code",
   "execution_count": 25,
   "metadata": {},
   "outputs": [
    {
     "data": {
      "text/plain": [
       "4"
      ]
     },
     "execution_count": 25,
     "metadata": {},
     "output_type": "execute_result"
    }
   ],
   "source": [
    "len(bow_arr)"
   ]
  },
  {
   "cell_type": "code",
   "execution_count": 26,
   "metadata": {},
   "outputs": [
    {
     "data": {
      "text/plain": [
       "[0.28768207245178085,\n",
       " 0.0,\n",
       " 1.3862943611198906,\n",
       " 0.6931471805599453,\n",
       " 1.3862943611198906,\n",
       " 1.3862943611198906]"
      ]
     },
     "execution_count": 26,
     "metadata": {},
     "output_type": "execute_result"
    }
   ],
   "source": [
    "import math\n",
    "idf = []\n",
    "for val in ni:\n",
    "    idf.append(math.log(len(bow_arr)/val))\n",
    "\n",
    "idf"
   ]
  },
  {
   "cell_type": "code",
   "execution_count": 27,
   "metadata": {},
   "outputs": [],
   "source": [
    "def tf_idf(bow_vectors, idf):\n",
    "    length = 6\n",
    "    count = 0\n",
    "    tfidf = []\n",
    "    for b_vec in bow_vectors:\n",
    "        i = 0\n",
    "        print(b_vec)\n",
    "        temp = []\n",
    "        for val in b_vec:\n",
    "            tf = val/length\n",
    "            temp.append(tf * idf[i])\n",
    "            i = i + 1\n",
    "        print(\"temp\", temp)\n",
    "        tfidf.append(temp)\n",
    "    #return tfidf"
   ]
  },
  {
   "cell_type": "code",
   "execution_count": 28,
   "metadata": {},
   "outputs": [
    {
     "name": "stdout",
     "output_type": "stream",
     "text": [
      "[2, 1, 1, 1, 0, 0]\n",
      "temp [0.09589402415059362, 0.0, 0.23104906018664842, 0.11552453009332421, 0.0, 0.0]\n",
      "[3, 1, 0, 0, 0, 0]\n",
      "temp [0.14384103622589042, 0.0, 0.0, 0.0, 0.0, 0.0]\n",
      "[1, 1, 0, 0, 0, 0]\n",
      "temp [0.04794701207529681, 0.0, 0.0, 0.0, 0.0, 0.0]\n",
      "[0, 1, 0, 1, 1, 1]\n",
      "temp [0.0, 0.0, 0.0, 0.11552453009332421, 0.23104906018664842, 0.23104906018664842]\n"
     ]
    }
   ],
   "source": [
    "tf_idf(bow_vectors, idf)"
   ]
  },
  {
   "cell_type": "code",
   "execution_count": 29,
   "metadata": {},
   "outputs": [
    {
     "data": {
      "text/plain": [
       "6"
      ]
     },
     "execution_count": 29,
     "metadata": {},
     "output_type": "execute_result"
    }
   ],
   "source": [
    "len(v1)"
   ]
  },
  {
   "cell_type": "code",
   "execution_count": 30,
   "metadata": {},
   "outputs": [
    {
     "data": {
      "text/plain": [
       "0.28768207245178085"
      ]
     },
     "execution_count": 30,
     "metadata": {},
     "output_type": "execute_result"
    }
   ],
   "source": [
    "math.log(4/3)"
   ]
  },
  {
   "cell_type": "code",
   "execution_count": null,
   "metadata": {},
   "outputs": [],
   "source": []
  }
 ],
 "metadata": {
  "kernelspec": {
   "display_name": "Python 3",
   "language": "python",
   "name": "python3"
  },
  "language_info": {
   "codemirror_mode": {
    "name": "ipython",
    "version": 3
   },
   "file_extension": ".py",
   "mimetype": "text/x-python",
   "name": "python",
   "nbconvert_exporter": "python",
   "pygments_lexer": "ipython3",
   "version": "3.7.7"
  }
 },
 "nbformat": 4,
 "nbformat_minor": 4
}
