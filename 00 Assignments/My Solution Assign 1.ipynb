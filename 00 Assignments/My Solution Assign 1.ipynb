{
 "cells": [
  {
   "cell_type": "code",
   "execution_count": 171,
   "metadata": {},
   "outputs": [
    {
     "ename": "IndexError",
     "evalue": "list index out of range",
     "output_type": "error",
     "traceback": [
      "\u001b[1;31m---------------------------------------------------------------------------\u001b[0m",
      "\u001b[1;31mIndexError\u001b[0m                                Traceback (most recent call last)",
      "\u001b[1;32m<ipython-input-171-8f5a59062822>\u001b[0m in \u001b[0;36m<module>\u001b[1;34m\u001b[0m\n\u001b[0;32m      5\u001b[0m         [1,1,1,1,1]]\n\u001b[0;32m      6\u001b[0m \u001b[1;33m\u001b[0m\u001b[0m\n\u001b[1;32m----> 7\u001b[1;33m \u001b[0mprint\u001b[0m\u001b[1;33m(\u001b[0m\u001b[1;34m'len A'\u001b[0m\u001b[1;33m,\u001b[0m \u001b[0mlen\u001b[0m\u001b[1;33m(\u001b[0m\u001b[0mA\u001b[0m\u001b[1;33m[\u001b[0m\u001b[1;36m0\u001b[0m\u001b[1;33m]\u001b[0m\u001b[1;33m)\u001b[0m\u001b[1;33m)\u001b[0m  \u001b[1;31m# Number of columns in A\u001b[0m\u001b[1;33m\u001b[0m\u001b[1;33m\u001b[0m\u001b[0m\n\u001b[0m\u001b[0;32m      8\u001b[0m \u001b[0mprint\u001b[0m\u001b[1;33m(\u001b[0m\u001b[1;34m'len B'\u001b[0m\u001b[1;33m,\u001b[0m \u001b[0mlen\u001b[0m\u001b[1;33m(\u001b[0m\u001b[0mB\u001b[0m\u001b[1;33m)\u001b[0m\u001b[1;33m)\u001b[0m     \u001b[1;31m# Number of rows in B\u001b[0m\u001b[1;33m\u001b[0m\u001b[1;33m\u001b[0m\u001b[0m\n\u001b[0;32m      9\u001b[0m \u001b[1;33m\u001b[0m\u001b[0m\n",
      "\u001b[1;31mIndexError\u001b[0m: list index out of range"
     ]
    }
   ],
   "source": [
    "A   =  []\n",
    "\n",
    "B   =  [[1,2,3,4,5],\n",
    "        [5,6,7,8,9],\n",
    "        [1,1,1,1,1]]\n",
    "\n",
    "print('len A', len(A[0]))  # Number of columns in A\n",
    "print('len B', len(B))     # Number of rows in B\n",
    "\n",
    "print(A)\n",
    "print(B)"
   ]
  },
  {
   "cell_type": "code",
   "execution_count": null,
   "metadata": {},
   "outputs": [],
   "source": []
  },
  {
   "cell_type": "code",
   "execution_count": 172,
   "metadata": {},
   "outputs": [
    {
     "name": "stdout",
     "output_type": "stream",
     "text": [
      "Matrix cannot be empty\n"
     ]
    }
   ],
   "source": [
    "r = mm(A, B)"
   ]
  },
  {
   "cell_type": "code",
   "execution_count": 168,
   "metadata": {},
   "outputs": [],
   "source": [
    "def mm(A, B):\n",
    "    if( len(A) == 0 or len(B) == 0 ):\n",
    "        return print('Matrix cannot be empty')\n",
    "    \n",
    "    if len(A[0]) != len(B):\n",
    "        return print('Matrix Multiplication is not possible!')\n",
    "    \n",
    "    result = []                                     \n",
    "    for I in range(len(A)):                      # I = [0, 1]\n",
    "        temp = []                                \n",
    "        for j in range(len(B[0])):               # j = [0, 1, 2, 3, 4]\n",
    "            value = 0                            # individual value, v = 0+1,   v = 1 + 10,   v = 11 + 27=>38\n",
    "            for i in range(len(A[0])):           # i = [0, 1, 2]\n",
    "                value += (A[I][i] * B[i][j])     # A[0][0] * B[0][0] +  A[0][1]*B[1][0] +  A[0][2]*B[2][0]  ==> 38\n",
    "            temp.append(value)                   # temp.append(38)\n",
    "        result.append(temp)\n",
    "    \n",
    "    return result"
   ]
  },
  {
   "cell_type": "code",
   "execution_count": 173,
   "metadata": {},
   "outputs": [
    {
     "name": "stdout",
     "output_type": "stream",
     "text": [
      "None\n"
     ]
    }
   ],
   "source": [
    "print(r)"
   ]
  },
  {
   "cell_type": "code",
   "execution_count": null,
   "metadata": {},
   "outputs": [],
   "source": []
  },
  {
   "cell_type": "code",
   "execution_count": 46,
   "metadata": {},
   "outputs": [],
   "source": []
  },
  {
   "cell_type": "code",
   "execution_count": 164,
   "metadata": {
    "scrolled": true
   },
   "outputs": [
    {
     "name": "stdout",
     "output_type": "stream",
     "text": [
      "[]\n",
      "I =  0\n",
      "j = 0  and v = 0\n",
      "i = 0\n",
      "i = 1\n",
      "i = 2\n",
      "v =  14\n",
      "temp = [14]\n",
      "j = 1  and v = 0\n",
      "i = 0\n",
      "i = 1\n",
      "i = 2\n",
      "v =  17\n",
      "temp = [14, 17]\n",
      "j = 2  and v = 0\n",
      "i = 0\n",
      "i = 1\n",
      "i = 2\n",
      "v =  20\n",
      "temp = [14, 17, 20]\n",
      "j = 3  and v = 0\n",
      "i = 0\n",
      "i = 1\n",
      "i = 2\n",
      "v =  23\n",
      "temp = [14, 17, 20, 23]\n",
      "j = 4  and v = 0\n",
      "i = 0\n",
      "i = 1\n",
      "i = 2\n",
      "v =  26\n",
      "temp = [14, 17, 20, 23, 26]\n",
      "lst = [[14, 17, 20, 23, 26]]\n",
      "[14, 17, 20, 23, 26]\n",
      "I =  1\n",
      "j = 0  and v = 0\n",
      "i = 0\n",
      "i = 1\n",
      "i = 2\n",
      "v =  28\n",
      "temp = [28]\n",
      "j = 1  and v = 0\n",
      "i = 0\n",
      "i = 1\n",
      "i = 2\n",
      "v =  35\n",
      "temp = [28, 35]\n",
      "j = 2  and v = 0\n",
      "i = 0\n",
      "i = 1\n",
      "i = 2\n",
      "v =  42\n",
      "temp = [28, 35, 42]\n",
      "j = 3  and v = 0\n",
      "i = 0\n",
      "i = 1\n",
      "i = 2\n",
      "v =  49\n",
      "temp = [28, 35, 42, 49]\n",
      "j = 4  and v = 0\n",
      "i = 0\n",
      "i = 1\n",
      "i = 2\n",
      "v =  56\n",
      "temp = [28, 35, 42, 49, 56]\n",
      "lst = [[14, 17, 20, 23, 26], [28, 35, 42, 49, 56]]\n",
      "[14, 17, 20, 23, 26]\n",
      "[28, 35, 42, 49, 56]\n"
     ]
    }
   ],
   "source": [
    "Ai = range(len(A))\n",
    "Aj = range(len(A[0]))\n",
    "Bj = range(len(B[0]))\n",
    "\n",
    "lst = []\n",
    "print(lst)\n",
    "for I in Ai:\n",
    "    temp = []\n",
    "    print(\"I = \", I)\n",
    "    for j in Bj:\n",
    "        v = 0\n",
    "        print('j =', j, ' and v =', v)\n",
    "        for i in Aj:\n",
    "            print('i =', i)\n",
    "            v = v + (A[I][i] * B[i][j])     # A[0][0] * B[0][0],  A[0][1]*B[1][0], A[0][2]*B[2][0]\n",
    "        print('v = ',v)\n",
    "        temp.append(v)\n",
    "        print('temp =', temp)\n",
    "    lst.append(temp)\n",
    "    print('lst =',lst)\n",
    "    for x in lst:print(x)"
   ]
  },
  {
   "cell_type": "code",
   "execution_count": 93,
   "metadata": {},
   "outputs": [
    {
     "name": "stdout",
     "output_type": "stream",
     "text": [
      "[[204, 160, 136], [224, 229, 168]]\n"
     ]
    }
   ],
   "source": [
    "print(lst)"
   ]
  },
  {
   "cell_type": "code",
   "execution_count": 103,
   "metadata": {},
   "outputs": [
    {
     "name": "stdout",
     "output_type": "stream",
     "text": [
      "[204, 160, 136]\n",
      "[224, 229, 168]\n"
     ]
    }
   ],
   "source": []
  },
  {
   "cell_type": "code",
   "execution_count": null,
   "metadata": {},
   "outputs": [],
   "source": []
  }
 ],
 "metadata": {
  "kernelspec": {
   "display_name": "Python 3",
   "language": "python",
   "name": "python3"
  },
  "language_info": {
   "codemirror_mode": {
    "name": "ipython",
    "version": 3
   },
   "file_extension": ".py",
   "mimetype": "text/x-python",
   "name": "python",
   "nbconvert_exporter": "python",
   "pygments_lexer": "ipython3",
   "version": "3.7.7"
  }
 },
 "nbformat": 4,
 "nbformat_minor": 4
}
