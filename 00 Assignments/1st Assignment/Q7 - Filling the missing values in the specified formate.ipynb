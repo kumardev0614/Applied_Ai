{
 "cells": [
  {
   "cell_type": "markdown",
   "metadata": {
    "colab_type": "text",
    "id": "9OBpURbNB-k9"
   },
   "source": [
    "<h3> Q7: Filling the missing values in the specified formate</h3>\n",
    "You will be given a string with digits and '\\_'(missing value) symbols you have to replace the '\\_' symbols as explained \n",
    "<pre>\n",
    "Ex 1: _, _, _, 24 ==> 24/4, 24/4, 24/4, 24/4 i.e we. have distributed the 24 equally to all 4 places <br>\n",
    "Ex 2: 40, _, _, _, 60 ==> (60+40)/5,(60+40)/5,(60+40)/5,(60+40)/5,(60+40)/5 ==> 20, 20, 20, 20, 20 i.e. the sum of (60+40) is distributed qually to all 5 places<br>\n",
    "Ex 3: 80, _, _, _, _  ==> 80/5,80/5,80/5,80/5,80/5 ==> 16, 16, 16, 16, 16 i.e. the 80 is distributed qually to all 5 missing values that are right to it<br>\n",
    "Ex 4: _, _, 30, _, _, _, 50, _, _  \n",
    "==> we will fill the missing values from left to right \n",
    "    a. first we will distribute the 30 to left two missing values (10, 10, 10, _, _, _, 50, _, _)\n",
    "    b. now distribute the sum (10+50) missing values in between (10, 10, 12, 12, 12, 12, 12, _, _) \n",
    "    c. now we will distribute 12 to right side missing values (10, 10, 12, 12, 12, 12, 4, 4, 4)\n",
    "</pre>\n",
    "for a given string with comma seprate values, which will have both missing values numbers like ex: \"_, _, x, _, _, _\"\n",
    "you need fill the missing values\n",
    "\n",
    "Q: your program reads a string like ex: \"_, _, x, _, _, _\" and returns the filled sequence\n",
    "\n",
    "Ex: \n",
    "<pre>\n",
    "Input1: \"_,_,_,24\"\n",
    "Output1: 6,6,6,6\n",
    "\n",
    "Input2: \"40,_,_,_,60\"\n",
    "Output2: 20,20,20,20,20\n",
    "\n",
    "Input3: \"80,_,_,_,_\"\n",
    "Output3: 16,16,16,16,16\n",
    "\n",
    "Input4: \"_,_,30,_,_,_,50,_,_\"\n",
    "Output4: 10,10,12,12,12,12,4,4,4\n",
    "</pre>\n",
    "\n"
   ]
  },
  {
   "cell_type": "code",
   "execution_count": 1,
   "metadata": {},
   "outputs": [],
   "source": [
    "def curve_smooth(s):\n",
    "    lst = s.split(\",\")\n",
    "    broken_lst = []\n",
    "    count = 0\n",
    "    for val in lst:\n",
    "        if val != \"_\":\n",
    "            broken_lst.append(lst[count : lst.index(val) + 1 ])\n",
    "            count = lst.index(val)\n",
    "    broken_lst.append(lst[count :])      \n",
    "    #print(broken_lst)\n",
    "    \n",
    "    list_of_cases = []\n",
    "    for lists in broken_lst:\n",
    "        if len(lists) != 1:\n",
    "            list_of_cases.append(lists)\n",
    "    \n",
    "    print('list of cases', list_of_cases)\n",
    "    \n",
    "    filled_seq = []\n",
    "    end_val = 0\n",
    "    for l in list_of_cases:\n",
    "        if (l[0] == \"_\") and (l[-1] != \"_\"):\n",
    "            filled_seq =  [ int(float(l[-1])/len(l)) for x in l ]\n",
    "            end_val = filled_seq[-1]\n",
    "            print(filled_seq, \"end_val=\", end_val)\n",
    "            \n",
    "            if len(list_of_cases) > 1:\n",
    "                filled_seq = filled_seq[: -1]\n",
    "        \n",
    "        elif (l[0] != \"_\") and (l[-1] != \"_\"):\n",
    "            if end_val == 0:\n",
    "                filled_seq = [ int(((float(l[0])) + (float(l[-1]))) / len(l)) for x in l ]\n",
    "                print(\"filled_seq for single list\", filled_seq, \"end_val=\", end_val)\n",
    "            else:\n",
    "                #filled_seq = filled_seq[: -1]\n",
    "                print(\"end_val befor=\", end_val)\n",
    "                result = [ int(((end_val) + (float(l[-1]))) / len(l)) for x in l ]\n",
    "                end_val = result[-1]\n",
    "                filled_seq.extend(result[: -1])\n",
    "                print(filled_seq, \"end_val after=\", end_val)\n",
    "        \n",
    "        elif (l[0] != \"_\") and (l[-1] == \"_\"):\n",
    "            if end_val == 0:\n",
    "                filled_seq = [ int(float(l[0])/len(l)) for x in l ]\n",
    "                print(\"filled_seq for single list\", filled_seq, \"end_val=\", end_val)\n",
    "            else:\n",
    "                print(\"end_val befor=\", end_val)\n",
    "                filled_seq.extend([ int(end_val/len(l)) for x in l ])\n",
    "                print(filled_seq, \"end_val after=\", end_val)\n",
    "    \n",
    "    print()\n",
    "    return filled_seq"
   ]
  },
  {
   "cell_type": "code",
   "execution_count": 2,
   "metadata": {},
   "outputs": [],
   "source": [
    "s = \"_,_,_,24\"\n",
    "s2 = \"40,_,_,_,60\"\n",
    "s3 = \"80,_,_,_,_\"\n",
    "s4 = \"_,_,30,_,_,_,50,_,_,120,_,_\"\n",
    "s5 = \"_,_,_,_,100,_,_,50\"\n",
    "slist = [s,s2,s3,s4,s5]"
   ]
  },
  {
   "cell_type": "code",
   "execution_count": 3,
   "metadata": {},
   "outputs": [
    {
     "name": "stdout",
     "output_type": "stream",
     "text": [
      "list of cases [['_', '_', '30'], ['30', '_', '_', '_', '50'], ['50', '_', '_', '120'], ['120', '_', '_']]\n",
      "[10, 10, 10] end_val= 10\n",
      "end_val befor= 10\n",
      "[10, 10, 12, 12, 12, 12] end_val after= 12\n",
      "end_val befor= 12\n",
      "[10, 10, 12, 12, 12, 12, 33, 33, 33] end_val after= 33\n",
      "end_val befor= 33\n",
      "[10, 10, 12, 12, 12, 12, 33, 33, 33, 11, 11, 11] end_val after= 33\n",
      "\n"
     ]
    },
    {
     "data": {
      "text/plain": [
       "[10, 10, 12, 12, 12, 12, 33, 33, 33, 11, 11, 11]"
      ]
     },
     "execution_count": 3,
     "metadata": {},
     "output_type": "execute_result"
    }
   ],
   "source": [
    "curve_smooth(s4)"
   ]
  },
  {
   "cell_type": "code",
   "execution_count": 4,
   "metadata": {},
   "outputs": [
    {
     "name": "stdout",
     "output_type": "stream",
     "text": [
      "list of cases [['_', '_', '_', '24']]\n",
      "[6, 6, 6, 6] end_val= 6\n",
      "\n",
      "list of cases [['40', '_', '_', '_', '60']]\n",
      "filled_seq for single list [20, 20, 20, 20, 20] end_val= 0\n",
      "\n",
      "list of cases [['80', '_', '_', '_', '_']]\n",
      "filled_seq for single list [16, 16, 16, 16, 16] end_val= 0\n",
      "\n",
      "list of cases [['_', '_', '30'], ['30', '_', '_', '_', '50'], ['50', '_', '_', '120'], ['120', '_', '_']]\n",
      "[10, 10, 10] end_val= 10\n",
      "end_val befor= 10\n",
      "[10, 10, 12, 12, 12, 12] end_val after= 12\n",
      "end_val befor= 12\n",
      "[10, 10, 12, 12, 12, 12, 33, 33, 33] end_val after= 33\n",
      "end_val befor= 33\n",
      "[10, 10, 12, 12, 12, 12, 33, 33, 33, 11, 11, 11] end_val after= 33\n",
      "\n",
      "list of cases [['_', '_', '_', '_', '100'], ['100', '_', '_', '50']]\n",
      "[20, 20, 20, 20, 20] end_val= 20\n",
      "end_val befor= 20\n",
      "[20, 20, 20, 20, 17, 17, 17] end_val after= 17\n",
      "\n"
     ]
    }
   ],
   "source": [
    "for s in slist:\n",
    "    curve_smooth(s)"
   ]
  },
  {
   "cell_type": "code",
   "execution_count": 5,
   "metadata": {},
   "outputs": [
    {
     "name": "stdout",
     "output_type": "stream",
     "text": [
      "2\n",
      "6\n",
      "9\n"
     ]
    },
    {
     "data": {
      "text/plain": [
       "[['_', '_', '30'],\n",
       " ['30', '_', '_', '_', '50'],\n",
       " ['50', '_', '_', '120'],\n",
       " ['120', '_', '_']]"
      ]
     },
     "execution_count": 5,
     "metadata": {},
     "output_type": "execute_result"
    }
   ],
   "source": [
    "s8 = \"_,_,30,_,_,_,50,_,_,120,_,_\"\n",
    "l = s8.split(\",\")\n",
    "\n",
    "broken_lst = []\n",
    "count = 0\n",
    "for val in l:\n",
    "    if val != \"_\":\n",
    "        print(l.index(val))\n",
    "        broken_lst.append(l[count : l.index(val) + 1 ])\n",
    "        count = l.index(val)\n",
    "broken_lst.append(l[count :])      \n",
    "broken_lst"
   ]
  },
  {
   "cell_type": "code",
   "execution_count": null,
   "metadata": {},
   "outputs": [],
   "source": [
    "# Below code does not work as asked question, but it has some good coding logics like recursion and function calling etc.\n",
    "# So cannot delete this code snippet."
   ]
  },
  {
   "cell_type": "code",
   "execution_count": 6,
   "metadata": {},
   "outputs": [],
   "source": [
    "def position(lst):\n",
    "    if (lst[0] == \"_\") and (lst[-1] != \"_\"):\n",
    "        print(\"value is at end only\")\n",
    "        \n",
    "        return 1\n",
    "    elif (lst[0] != \"_\") and (lst[-1] != \"_\"):\n",
    "        print(\"value is in start and end\")\n",
    "        return 2\n",
    "    elif (lst[0] != \"_\") and (lst[-1] == \"_\"):\n",
    "        print(\"value is at begining\")\n",
    "        return 3\n",
    "    else:\n",
    "        print(\"need furthur spliting\")\n",
    "        return 4\n",
    "    \n",
    "def case_1(l):\n",
    "    filled_seq =  [ int(float(l[-1])/len(l)) for x in l ]\n",
    "    return filled_seq\n",
    "\n",
    "def case_2(l):\n",
    "    filled_seq = [ int(((float(l[0])) + (float(l[-1]))) / len(l)) for x in l ]\n",
    "    return filled_seq\n",
    "\n",
    "def case_3(l):\n",
    "    filled_seq = [ int(float(l[0])/len(l)) for x in l ]\n",
    "    return filled_seq  \n",
    "    \n",
    "def curve_smoothing(s):\n",
    "    lst = s.split(\",\")\n",
    "    \n",
    "    case = position(lst)\n",
    "    print(\"case:\", case)\n",
    "    \n",
    "    # End_val = 0\n",
    "    \n",
    "    if case == 1:\n",
    "        return case_1(lst)\n",
    "    elif case == 2:\n",
    "        return case_2(lst)\n",
    "    elif case == 3:\n",
    "        return case_3(lst)\n",
    "    \n",
    "    elif case == 4:\n",
    "        broken_lst = []\n",
    "        count = 0\n",
    "        for val in lst:\n",
    "            if val != \"_\":\n",
    "                broken_lst.append(lst[count : lst.index(val) + 1 ])\n",
    "                count = lst.index(val)\n",
    "        broken_lst.append(lst[count :])      \n",
    "        print(broken_lst)\n",
    "        filled_seq = []\n",
    "        \n",
    "        for sub_lst in broken_lst:\n",
    "            print(\",\".join(sub_lst))\n",
    "            filled_seq.extend(curve_smoothing(\",\".join(sub_lst)))                       # function calling itself\n",
    "        return filled_seq\n",
    "    "
   ]
  },
  {
   "cell_type": "code",
   "execution_count": 7,
   "metadata": {},
   "outputs": [
    {
     "name": "stdout",
     "output_type": "stream",
     "text": [
      "need furthur spliting\n",
      "case: 4\n",
      "[['_', '_', '30'], ['30', '_', '_', '_', '50'], ['50', '_', '_', '_']]\n",
      "_,_,30\n",
      "value is at end only\n",
      "case: 1\n",
      "30,_,_,_,50\n",
      "value is in start and end\n",
      "case: 2\n",
      "50,_,_,_\n",
      "value is at begining\n",
      "case: 3\n",
      "[10, 10, 10, 16, 16, 16, 16, 16, 12, 12, 12, 12]\n"
     ]
    }
   ],
   "source": [
    "S = \"_,_,30,_,_,_,50,_,_,_\"\n",
    "smoothed_values= curve_smoothing(S)\n",
    "print(smoothed_values)"
   ]
  }
 ],
 "metadata": {
  "kernelspec": {
   "display_name": "Python 3",
   "language": "python",
   "name": "python3"
  },
  "language_info": {
   "codemirror_mode": {
    "name": "ipython",
    "version": 3
   },
   "file_extension": ".py",
   "mimetype": "text/x-python",
   "name": "python",
   "nbconvert_exporter": "python",
   "pygments_lexer": "ipython3",
   "version": "3.7.7"
  }
 },
 "nbformat": 4,
 "nbformat_minor": 4
}
