{
 "cells": [
  {
   "cell_type": "code",
   "execution_count": 1,
   "metadata": {},
   "outputs": [],
   "source": [
    "import seaborn as sns\n",
    "from random import uniform"
   ]
  },
  {
   "cell_type": "code",
   "execution_count": 8,
   "metadata": {},
   "outputs": [
    {
     "name": "stdout",
     "output_type": "stream",
     "text": [
      "[79, 100, 79, 27, 28, 45, 28, 45, 45, 100, 6, 100, 45, 27, 28, 100, 79, 13, 13, 28, 28, 27, 13, 100, 79, 100, 79, 100, 27, 100, 27, 10, 100, 100, 100, 79, 13, 13, 79, 27, 27, 79, 100, 13, 79, 27, 100, 28, 100, 79, 27, 28, 100, 28, 27, 79, 6, 100, 45, 10, 79, 100, 27, 5, 100, 79, 10, 45, 13, 100, 45, 100, 10, 79, 27, 79, 28, 100, 100, 79, 79, 79, 45, 100, 100, 100, 45, 27, 13, 100, 100, 79, 79, 79, 100, 13, 28, 100, 45]\n"
     ]
    },
    {
     "data": {
      "text/plain": [
       "<matplotlib.axes._subplots.AxesSubplot at 0x23c1c49ebc8>"
      ]
     },
     "execution_count": 8,
     "metadata": {},
     "output_type": "execute_result"
    },
    {
     "data": {
      "image/png": "[encoded data removed]",
      "text/plain": [
       "<Figure size 432x288 with 1 Axes>"
      ]
     },
     "metadata": {
      "needs_background": "light"
     },
     "output_type": "display_data"
    }
   ],
   "source": [
    "from random import uniform\n",
    "\n",
    "myArray = [0, 5, 27, 6, 13, 28, 100, 45, 10, 79]\n",
    "\n",
    "def pick_a_number_from_list(A, cumlative_sum):\n",
    "    \n",
    "    # picking r from continous uniform distribution of [0,1]\n",
    "    r = uniform(0,1)  \n",
    "    count = 0\n",
    "    for ele in cumlative_sum:\n",
    "        if r <= ele:\n",
    "            return A[count] #selected_random_number\n",
    "        else:\n",
    "            count+= 1\n",
    "\n",
    "\n",
    "def sampling_based_on_magnitued(A):\n",
    "    \n",
    "    A.sort()\n",
    "    total = sum(A)\n",
    "    \n",
    "    cumlative_sum = [0]\n",
    "    # list to save cumlative sum values\n",
    "    # 0 is given to run cumlative_sum[-1] in for loop for first time.\n",
    "    \n",
    "    for ele in A:\n",
    "        cumlative_sum.append(cumlative_sum[-1] + (ele/total))\n",
    "        # append(last value in same list + element in A / total ) \n",
    "    del cumlative_sum[0]\n",
    "    \n",
    "    lst = []\n",
    "    for i in range(1,100):\n",
    "        number = pick_a_number_from_list(A, cumlative_sum)\n",
    "        lst.append(number)  # appending all picked values in list \"lst\"\n",
    "    return lst\n",
    "\n",
    "\n",
    "l = sampling_based_on_magnitued(myArray)   # calling sampling function\n",
    "print(l)\n",
    "\n",
    "sns.countplot(l)       # count plot of sampled values"
   ]
  },
  {
   "cell_type": "code",
   "execution_count": null,
   "metadata": {},
   "outputs": [],
   "source": []
  }
 ],
 "metadata": {
  "kernelspec": {
   "display_name": "Python 3",
   "language": "python",
   "name": "python3"
  },
  "language_info": {
   "codemirror_mode": {
    "name": "ipython",
    "version": 3
   },
   "file_extension": ".py",
   "mimetype": "text/x-python",
   "name": "python",
   "nbconvert_exporter": "python",
   "pygments_lexer": "ipython3",
   "version": "3.7.7"
  }
 },
 "nbformat": 4,
 "nbformat_minor": 4
}
