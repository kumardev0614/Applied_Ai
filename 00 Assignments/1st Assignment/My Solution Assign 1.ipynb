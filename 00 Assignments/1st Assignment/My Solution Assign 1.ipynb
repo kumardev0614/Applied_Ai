{
 "cells": [
  {
   "cell_type": "markdown",
   "metadata": {},
   "source": [
    "# Assignment 1 - Python: without numpy or sklearn \n",
    "### Name: Devendra Bharti\n",
    "### Email: kumardev0614@gmail.com"
   ]
  },
  {
   "cell_type": "code",
   "execution_count": 1,
   "metadata": {},
   "outputs": [],
   "source": [
    "import seaborn as sns"
   ]
  },
  {
   "cell_type": "code",
   "execution_count": 2,
   "metadata": {},
   "outputs": [],
   "source": [
    "import math"
   ]
  },
  {
   "cell_type": "markdown",
   "metadata": {},
   "source": [
    "# Q1: Given two matrices please print the product of those two matrices"
   ]
  },
  {
   "cell_type": "code",
   "execution_count": 36,
   "metadata": {},
   "outputs": [],
   "source": [
    "def matrix_dot_product(A, B):\n",
    "    if len(A[0]) != len(B):\n",
    "        return print('Matrix Multiplication is not possible!')\n",
    "    \n",
    "    result = []                                     \n",
    "    for I in range(len(A)):                      \n",
    "        temp = []                                \n",
    "        for j in range(len(B[0])):\n",
    "            value = 0\n",
    "            for i in range(len(A[0])):\n",
    "                value += (A[I][i] * B[i][j])\n",
    "            temp.append(value)\n",
    "        result.append(temp)\n",
    "    \n",
    "    return result"
   ]
  },
  {
   "cell_type": "code",
   "execution_count": 37,
   "metadata": {},
   "outputs": [
    {
     "name": "stdout",
     "output_type": "stream",
     "text": [
      "[1, 3, 4]\n",
      "[2, 5, 7]\n",
      "[5, 9, 6]\n"
     ]
    }
   ],
   "source": [
    "# Examlpe 1\n",
    "A   =  [[1,3,4],\n",
    "        [2,5,7],\n",
    "        [5,9,6]]\n",
    "\n",
    "B   =  [[1,0,0],\n",
    "        [0,1,0],\n",
    "        [0,0,1]]\n",
    "\n",
    "result = matrix_dot_product(A, B)\n",
    "\n",
    "print(result[0])\n",
    "print(result[1])\n",
    "print(result[2])"
   ]
  },
  {
   "cell_type": "code",
   "execution_count": 38,
   "metadata": {
    "scrolled": true
   },
   "outputs": [
    {
     "name": "stdout",
     "output_type": "stream",
     "text": [
      "[11, 14, 17, 20, 23]\n",
      "[23, 30, 37, 44, 51]\n"
     ]
    }
   ],
   "source": [
    "# Example 2\n",
    "A   =  [[1,2],\n",
    "        [3,4]]\n",
    "\n",
    "B   =  [[1,2,3,4,5],\n",
    "        [5,6,7,8,9]]\n",
    "\n",
    "result = matrix_dot_product(A, B)\n",
    "\n",
    "print(result[0])\n",
    "print(result[1])"
   ]
  },
  {
   "cell_type": "code",
   "execution_count": 39,
   "metadata": {},
   "outputs": [
    {
     "name": "stdout",
     "output_type": "stream",
     "text": [
      "Matrix Multiplication is not possible!\n"
     ]
    }
   ],
   "source": [
    "# Example 3\n",
    "A   =  [[1,2],\n",
    "        [3,4]]\n",
    "\n",
    "B   =  [[1,4],\n",
    "        [5,6],\n",
    "        [7,8],\n",
    "        [9,6]]\n",
    "\n",
    "result = matrix_dot_product(A, B)"
   ]
  },
  {
   "cell_type": "markdown",
   "metadata": {},
   "source": [
    "# Q2: Select a number randomly with probability proportional to its magnitude from the given array of n elements"
   ]
  },
  {
   "cell_type": "code",
   "execution_count": 7,
   "metadata": {},
   "outputs": [],
   "source": [
    "from random import uniform"
   ]
  },
  {
   "cell_type": "code",
   "execution_count": 9,
   "metadata": {},
   "outputs": [],
   "source": [
    "def pick_a_number_from_list(A, cumlative_sum):\n",
    "    \n",
    "    # picking r from continous uniform distribution of [0,1]\n",
    "    r = uniform(0,1)  \n",
    "    count = 0\n",
    "    for ele in cumlative_sum:\n",
    "        if r <= ele:\n",
    "            return A[count] #selected_random_number\n",
    "        else:\n",
    "            count+= 1\n",
    "\n",
    "\n",
    "def sampling_based_on_magnitued(A):\n",
    "    \n",
    "    A.sort()\n",
    "    total = sum(A)\n",
    "    \n",
    "    cumlative_sum = [0]\n",
    "    # list to save cumlative sum values\n",
    "    # 0 is given to run cumlative_sum[-1] in for loop for first time.\n",
    "    \n",
    "    for ele in A:\n",
    "        cumlative_sum.append(cumlative_sum[-1] + (ele/total))\n",
    "        # append(last value in same list + element in A / total ) \n",
    "    del cumlative_sum[0]\n",
    "    \n",
    "    lst = []\n",
    "    for i in range(1,100):\n",
    "        number = pick_a_number_from_list(A, cumlative_sum)\n",
    "        lst.append(number)  # appending all picked values in list \"lst\"\n",
    "    return lst"
   ]
  },
  {
   "cell_type": "code",
   "execution_count": 8,
   "metadata": {},
   "outputs": [],
   "source": [
    "myArray = [0, 5, 27, 6, 13, 28, 100, 45, 10, 79]"
   ]
  },
  {
   "cell_type": "code",
   "execution_count": 45,
   "metadata": {},
   "outputs": [
    {
     "name": "stdout",
     "output_type": "stream",
     "text": [
      "[100, 100, 100, 100, 100, 100, 27, 79, 100, 79, 27, 100, 10, 79, 100, 45, 100, 28, 100, 79, 100, 79, 13, 5, 45, 100, 100, 100, 13, 100, 79, 45, 45, 10, 79, 100, 28, 79, 27, 6, 100, 27, 6, 45, 79, 28, 45, 79, 100, 28, 45, 100, 79, 100, 6, 100, 28, 100, 27, 13, 28, 100, 100, 100, 100, 79, 79, 79, 27, 100, 79, 100, 79, 45, 27, 5, 100, 28, 100, 100, 100, 45, 45, 79, 100, 79, 13, 100, 79, 100, 79, 100, 100, 100, 79, 100, 100, 100, 100]\n"
     ]
    },
    {
     "data": {
      "text/plain": [
       "<matplotlib.axes._subplots.AxesSubplot at 0x1bc81f1f908>"
      ]
     },
     "execution_count": 45,
     "metadata": {},
     "output_type": "execute_result"
    },
    {
     "data": {
      "image/png": "[encoded data removed]",
      "text/plain": [
       "<Figure size 432x288 with 1 Axes>"
      ]
     },
     "metadata": {
      "needs_background": "light"
     },
     "output_type": "display_data"
    }
   ],
   "source": [
    "# calling sampling function\n",
    "l = sampling_based_on_magnitued(myArray)   \n",
    "print(l)\n",
    "\n",
    "sns.countplot(l) # countplot of sampled values"
   ]
  },
  {
   "cell_type": "markdown",
   "metadata": {
    "colab_type": "text",
    "id": "D1xQy2WWB-kq"
   },
   "source": [
    "# Q3: Replace the digits in the string with #</h3>\n",
    "\n",
    "consider a string that will have digits in that, we need to remove all the not digits and replace the digits with #\n",
    "<pre>\n",
    "Ex 1: A = 234                Output: ###\n",
    "Ex 2: A = a2b3c4             Output: ###\n",
    "Ex 3: A = abc                Output:   (empty string)\n",
    "Ex 5: A = #2a$#b%c%561#      Output: ####\n",
    "</pre>"
   ]
  },
  {
   "cell_type": "code",
   "execution_count": 11,
   "metadata": {
    "colab": {},
    "colab_type": "code",
    "id": "fxczi2jzB-kr"
   },
   "outputs": [],
   "source": [
    "def replace_digits(String):\n",
    "    mod_str = \"\"\n",
    "    for ele in String:\n",
    "        if (ele >= \"0\") and (ele <= \"9\"):\n",
    "            mod_str = mod_str + \"#\"\n",
    "\n",
    "    return mod_str"
   ]
  },
  {
   "cell_type": "code",
   "execution_count": 12,
   "metadata": {},
   "outputs": [
    {
     "data": {
      "text/plain": [
       "'###'"
      ]
     },
     "execution_count": 12,
     "metadata": {},
     "output_type": "execute_result"
    }
   ],
   "source": [
    "replace_digits(\"234\")"
   ]
  },
  {
   "cell_type": "code",
   "execution_count": 13,
   "metadata": {},
   "outputs": [
    {
     "data": {
      "text/plain": [
       "'###'"
      ]
     },
     "execution_count": 13,
     "metadata": {},
     "output_type": "execute_result"
    }
   ],
   "source": [
    "replace_digits(\"a2b3c4\")"
   ]
  },
  {
   "cell_type": "code",
   "execution_count": 14,
   "metadata": {},
   "outputs": [
    {
     "data": {
      "text/plain": [
       "''"
      ]
     },
     "execution_count": 14,
     "metadata": {},
     "output_type": "execute_result"
    }
   ],
   "source": [
    "replace_digits(\"abc\")"
   ]
  },
  {
   "cell_type": "code",
   "execution_count": 15,
   "metadata": {},
   "outputs": [
    {
     "data": {
      "text/plain": [
       "'####'"
      ]
     },
     "execution_count": 15,
     "metadata": {},
     "output_type": "execute_result"
    }
   ],
   "source": [
    "replace_digits(\"#2a$#b%c%561#\")"
   ]
  },
  {
   "cell_type": "markdown",
   "metadata": {
    "colab_type": "text",
    "id": "j7h0Ywg7B-kw"
   },
   "source": [
    "# Q4: Students marks dashboard"
   ]
  },
  {
   "cell_type": "code",
   "execution_count": 16,
   "metadata": {},
   "outputs": [],
   "source": [
    "students = ['student1','student2','student3','student4','student5','student6','student7','student8','student9','student10']\n",
    "marks = [45, 78, 12, 14, 48, 43, 47, 98, 35, 80]"
   ]
  },
  {
   "cell_type": "code",
   "execution_count": 17,
   "metadata": {},
   "outputs": [],
   "source": [
    "def display_dash_board(students, marks):\n",
    "    sorted_marks = sorted(marks)\n",
    "    \n",
    "    top_5_students = []\n",
    "    for ele in sorted_marks[-1:-6:-1]:\n",
    "        top_5_students.append(students[marks.index(ele)])\n",
    "    \n",
    "    least_5_students = []\n",
    "    for ele in sorted_marks[:5]:\n",
    "        least_5_students.append(students[marks.index(ele)])\n",
    "        \n",
    "    students_within_25_and_75 = []\n",
    "    per_25 = round(len(sorted_marks)*0.25)\n",
    "    per_75 = round(len(sorted_marks)*0.75)\n",
    "    for ele in sorted_marks[per_25: per_75 -1]:\n",
    "        students_within_25_and_75.append(students[marks.index(ele)])\n",
    "\n",
    "        \n",
    "    return top_5_students, least_5_students, students_within_25_and_75"
   ]
  },
  {
   "cell_type": "code",
   "execution_count": 18,
   "metadata": {},
   "outputs": [
    {
     "name": "stdout",
     "output_type": "stream",
     "text": [
      "a.\n",
      "student8\n",
      "student10\n",
      "student2\n",
      "student5\n",
      "student7\n",
      "\n",
      "b.\n",
      "student3\n",
      "student4\n",
      "student9\n",
      "student6\n",
      "student1\n",
      "\n",
      "c.\n",
      "student9\n",
      "student6\n",
      "student1\n",
      "student7\n",
      "student5\n"
     ]
    }
   ],
   "source": [
    "top_5_students, least_5_students, students_within_25_and_75 = display_dash_board(students, marks)\n",
    "\n",
    "print(\"a.\\n\"+'\\n'.join(top_5_students))\n",
    "print(\"\\nb.\\n\"+'\\n'.join(least_5_students))\n",
    "print(\"\\nc.\\n\"+'\\n'.join(students_within_25_and_75))"
   ]
  },
  {
   "cell_type": "markdown",
   "metadata": {
    "colab_type": "text",
    "id": "qha0OhQHB-k1"
   },
   "source": [
    "# Q5: Find the closest points"
   ]
  },
  {
   "cell_type": "code",
   "execution_count": 19,
   "metadata": {
    "colab": {},
    "colab_type": "code",
    "id": "wA5I1g-2B-k2"
   },
   "outputs": [],
   "source": [
    "# math.acos is inverse of cosine\n",
    "\n",
    "# here S is list of tuples and P is a tuple ot len=2\n",
    "def closest_points_to_p(S, P):\n",
    "    closest_points_to_p = []\n",
    "    distance = {}\n",
    "    for t in S:\n",
    "        x = t[0]\n",
    "        y = t[1]\n",
    "        p = P[0] \n",
    "        q = P[1]\n",
    "        \n",
    "        # Calculating sortest distance between poins in S w.r.t P using distance formula. \n",
    "        d = math.acos(((x*p) + (y*q)) / (math.sqrt((x*x)+(y*y)))*(math.sqrt((p*p)+(q*q))) / 100)\n",
    "        \n",
    "        # saving points as key and distance as value in dictionary.\n",
    "        distance[t] = d\n",
    "    \n",
    "    # sorting points-distance dictonary by value.\n",
    "    sorted_dist = sorted(distance.items(), key = lambda kv:(kv[1]))\n",
    "    \n",
    "    # creating list of 5 closest points to p from sorted dictonary.\n",
    "    for tup in sorted_dist[:5]:\n",
    "        closest_points_to_p.append(tup[0])\n",
    "    \n",
    "    return closest_points_to_p"
   ]
  },
  {
   "cell_type": "code",
   "execution_count": 20,
   "metadata": {},
   "outputs": [
    {
     "data": {
      "text/plain": [
       "[(6, -7), (1, -1), (6, 0), (-5, -8), (-1, -1)]"
      ]
     },
     "execution_count": 20,
     "metadata": {},
     "output_type": "execute_result"
    }
   ],
   "source": [
    "S= [(1,2),(3,4),(-1,1),(6,-7),(0, 6),(-5,-8),(-1,-1),(6,0),(1,-1)]\n",
    "P= (3,-4)\n",
    "points = closest_points_to_p(S, P)\n",
    "points"
   ]
  },
  {
   "cell_type": "markdown",
   "metadata": {},
   "source": [
    "# Q6: Find Which line separates oranges and apples"
   ]
  },
  {
   "cell_type": "code",
   "execution_count": 21,
   "metadata": {},
   "outputs": [],
   "source": [
    "# math is already imported\n",
    "from functools import reduce"
   ]
  },
  {
   "cell_type": "markdown",
   "metadata": {},
   "source": [
    "<h5>Explanation</h5><pre>\n",
    "1) First we will parse a,b,c from Equation of the line passed as string.\n",
    "We have used simple slicing for that.\n",
    "\n",
    "2) Now our task is to check position of each point in Red and Blue. If that point is above or below.\n",
    "check_position() function will do that task.\n",
    "It is taking list of Points(Red or Blue) and parsed a,b,c as arguments.\n",
    "Now we need x and y of each point in Red or Blue list.\n",
    "Using this x and y we will calculate ax + by + c\n",
    "\n",
    "3) Logic to judge point is above or below the line.\n",
    "point is above the line if:-\n",
    "i)  ax + by + c > 0 and b > 0\n",
    "ii) ax + by + c < 0 and b < 0\n",
    "\n",
    "point is below the line if:-\n",
    "i)  ax + by + c > 0 and b < 0\n",
    "ii) ax + by + c < 0 and b > 0\n",
    "\n",
    "point is On the line if:-\n",
    "i)  ax + by + c = 0\n",
    "\n",
    "This function check_position() will return a list called truth_table.\n",
    "In this truth_table we will append 0 if point is above or 1 if point is below.\n",
    "\n",
    "Ex: For line = 1x+0y-3\n",
    "a = 1.0 b = 0.0 c = -3.0\n",
    "[1, 1, 0, 1, 1]   truth_table for Red[(points),(points)....]\n",
    "[1, 1, 1, 1, 1]   truth_table for Blue[(points),(points)...]\n",
    "\n",
    "4) How to check all red points are one side and all blue points are other side of the line.\n",
    "if all red points are on same side our truth_table will look like this [0,0,0,0,0]\n",
    "if all blue points are on same side [1,1,1,1,1]\n",
    "To check red truth_table contains all 0s, sum(truth_table) it should always be zero. 0+0+0+0+0........+0 = 0\n",
    "For Blue mul(truth_table), because 1x1x1x1x1x1.......x1 = 1\n",
    "\n",
    "also 0+0+0+0+1+0+1+........+0 = Not Zero   Means some red points are below the line.\n",
    "     1x1x1x1x0x1x1x0.......x1 = Not One    Means some blue points are above the line.\n",
    "</pre>"
   ]
  },
  {
   "cell_type": "code",
   "execution_count": 22,
   "metadata": {},
   "outputs": [],
   "source": [
    "def check_position(Points, a, b, c):\n",
    "    truth_table= []\n",
    "    for point in Points:\n",
    "        x = point[0]                    # Ex Red = [(1,1), (2,1)] ==> x = 1\n",
    "        y = point[1]                                               #  y = 1     for first iteration.\n",
    "        axby = (a*x) + (b*y) + c\n",
    "        \n",
    "        if axby == 0:\n",
    "            pass\n",
    "        elif (b >= 0):\n",
    "            if axby > 0:\n",
    "                truth_table.append(0)\n",
    "            else:\n",
    "                truth_table.append(1)\n",
    "        elif b < 0:\n",
    "            if axby < 0:\n",
    "                truth_table.append(0)\n",
    "            else:\n",
    "                truth_table.append(1)\n",
    "    return truth_table\n",
    "        \n",
    "def i_am_the_one(red,blue,line):\n",
    "    \n",
    "    # parsing a,b,c from line string\n",
    "    a = float(line[: line.index('x')])\n",
    "    b = float(line[line.index('x') +1 : line.index('y')])\n",
    "    c = float(line[line.index('y')+1 : ])\n",
    "\n",
    "    # checking position of each point, appending 0 or 1 in truth table. saving sum of returned truth_table as result_red.\n",
    "    result_red = sum(check_position(red, a, b, c)) \n",
    "    \n",
    "    # checking position of each point, appending 0 or 1 in truth table. saving product of returned truth_table as result_blue.\n",
    "    result_blue = reduce((lambda p, q: p * q), check_position(blue, a, b, c))\n",
    "   \n",
    "\n",
    "    if (result_red == 0) and (result_blue == 1):\n",
    "        return \"YES\"\n",
    "    else:\n",
    "        return \"NO\""
   ]
  },
  {
   "cell_type": "code",
   "execution_count": 23,
   "metadata": {},
   "outputs": [
    {
     "name": "stdout",
     "output_type": "stream",
     "text": [
      "YES\n",
      "NO\n",
      "NO\n",
      "YES\n"
     ]
    }
   ],
   "source": [
    "Red= [(1,1),(2,1),(4,2),(2,4), (-1,4)]\n",
    "Blue= [(-2,-1),(-1,-2),(-3,-2),(-3,-1),(1,-3)]\n",
    "Lines=[\"1x+1y+0\",\"1x-1y+0\",\"1x+0y-3\",\"0x+1y-0.5\"]\n",
    "\n",
    "\n",
    "for i in Lines:\n",
    "    yes_or_no = i_am_the_one(Red, Blue, i)\n",
    "    print(yes_or_no)"
   ]
  },
  {
   "cell_type": "markdown",
   "metadata": {},
   "source": [
    "# Q7: Filling the missing values in the specified formate\n",
    "<pre>\n",
    "Input1: \"_,_,_,24\"\n",
    "Output1: 6,6,6,6\n",
    "\n",
    "Input2: \"40,_,_,_,60\"\n",
    "Output2: 20,20,20,20,20\n",
    "\n",
    "Input3: \"80,_,_,_,_\"\n",
    "Output3: 16,16,16,16,16\n",
    "\n",
    "Input4: \"_,_,30,_,_,_,50,_,_\"\n",
    "Output4: 10,10,12,12,12,12,4,4,4\n",
    "</pre>"
   ]
  },
  {
   "cell_type": "code",
   "execution_count": 24,
   "metadata": {},
   "outputs": [],
   "source": [
    "def curve_smoothing(s):\n",
    "    lst = s.split(\",\")\n",
    "    broken_lst = []\n",
    "    count = 0\n",
    "    for val in lst:\n",
    "        if val != \"_\":\n",
    "            broken_lst.append(lst[count : lst.index(val) + 1 ])\n",
    "            count = lst.index(val)\n",
    "    broken_lst.append(lst[count :])   \n",
    "    \n",
    "    list_of_cases = []\n",
    "    for lists in broken_lst:\n",
    "        if len(lists) != 1:\n",
    "            list_of_cases.append(lists)\n",
    "\n",
    "    \n",
    "    filled_seq = []\n",
    "    end_val = 0\n",
    "    for l in list_of_cases:\n",
    "        if (l[0] == \"_\") and (l[-1] != \"_\"):\n",
    "            filled_seq =  [ int(float(l[-1])/len(l)) for x in l ]\n",
    "            end_val = filled_seq[-1]\n",
    "            \n",
    "            if len(list_of_cases) > 1:\n",
    "                filled_seq = filled_seq[: -1]\n",
    "        \n",
    "        elif (l[0] != \"_\") and (l[-1] != \"_\"):\n",
    "            if end_val == 0:\n",
    "                filled_seq = [ int(((float(l[0])) + (float(l[-1]))) / len(l)) for x in l ]\n",
    "            else:\n",
    "                result = [ int(((end_val) + (float(l[-1]))) / len(l)) for x in l ]\n",
    "                end_val = result[-1]\n",
    "                filled_seq.extend(result[: -1])\n",
    "        \n",
    "        elif (l[0] != \"_\") and (l[-1] == \"_\"):\n",
    "            if end_val == 0:\n",
    "                filled_seq = [ int(float(l[0])/len(l)) for x in l ]\n",
    "            else:\n",
    "                filled_seq.extend([ int(end_val/len(l)) for x in l ])\n",
    "        \n",
    "    return filled_seq"
   ]
  },
  {
   "cell_type": "code",
   "execution_count": 25,
   "metadata": {},
   "outputs": [
    {
     "data": {
      "text/plain": [
       "[10, 10, 12, 12, 12, 12, 4, 4, 4]"
      ]
     },
     "execution_count": 25,
     "metadata": {},
     "output_type": "execute_result"
    }
   ],
   "source": [
    "S = \"_,_,30,_,_,_,50,_,_\"\n",
    "curve_smoothing(S)"
   ]
  },
  {
   "cell_type": "code",
   "execution_count": 26,
   "metadata": {},
   "outputs": [
    {
     "data": {
      "text/plain": [
       "[10, 10, 12, 12, 12, 12, 15, 15, 15, 5, 5, 5]"
      ]
     },
     "execution_count": 26,
     "metadata": {},
     "output_type": "execute_result"
    }
   ],
   "source": [
    "S = \"_,_,30,_,_,_,50,_,_,48,_,_\"    # My Example\n",
    "curve_smoothing(S)"
   ]
  },
  {
   "cell_type": "code",
   "execution_count": 27,
   "metadata": {},
   "outputs": [
    {
     "data": {
      "text/plain": [
       "[6, 6, 6, 6]"
      ]
     },
     "execution_count": 27,
     "metadata": {},
     "output_type": "execute_result"
    }
   ],
   "source": [
    "S = \"_,_,_,24\"\n",
    "curve_smoothing(S)"
   ]
  },
  {
   "cell_type": "code",
   "execution_count": 28,
   "metadata": {},
   "outputs": [
    {
     "data": {
      "text/plain": [
       "[20, 20, 20, 20, 20]"
      ]
     },
     "execution_count": 28,
     "metadata": {},
     "output_type": "execute_result"
    }
   ],
   "source": [
    "S = \"40,_,_,_,60\"\n",
    "curve_smoothing(S)"
   ]
  },
  {
   "cell_type": "code",
   "execution_count": 29,
   "metadata": {},
   "outputs": [
    {
     "data": {
      "text/plain": [
       "[16, 16, 16, 16, 16]"
      ]
     },
     "execution_count": 29,
     "metadata": {},
     "output_type": "execute_result"
    }
   ],
   "source": [
    "S = \"80,_,_,_,_\"\n",
    "curve_smoothing(S)"
   ]
  },
  {
   "cell_type": "markdown",
   "metadata": {},
   "source": [
    "# Q8: Filling the missing values in the specified format\n",
    "<pre>\n",
    "[[F1,S1],[F2,S2],[F3,S3],[F1,S2],[F2,S3],[F3,S2],[F2,S1],[F4,S1],[F4,S3],[F5,S1]]\n",
    "\n",
    "a. P(F=F1|S==S1)=1/4, P(F=F1|S==S2)=1/3, P(F=F1|S==S3)=0/3\n",
    "b. P(F=F2|S==S1)=1/4, P(F=F2|S==S2)=1/3, P(F=F2|S==S3)=1/3\n",
    "c. P(F=F3|S==S1)=0/4, P(F=F3|S==S2)=1/3, P(F=F3|S==S3)=1/3\n",
    "d. P(F=F4|S==S1)=1/4, P(F=F4|S==S2)=0/3, P(F=F4|S==S3)=1/3\n",
    "e. P(F=F5|S==S1)=1/4, P(F=F5|S==S2)=0/3, P(F=F5|S==S3)=0/3\n",
    "</pre>"
   ]
  },
  {
   "cell_type": "markdown",
   "metadata": {},
   "source": [
    "##### Explaination\n",
    "<pre>1) --- As We can see in output S1, S2, S3 are always same. And these S1, S2 and S3 are nothing but count of S1,S2,S3 in given list of list. In our example S1 = 4, S2 = 3, S3 = 3. \n",
    "So we will count thses values only once from our list of pairs and put them in output.\n",
    "\n",
    "2) --- In our probabiliy value 1/4 or 0/3 or 1/3. Divisor(4, 3, 3) is our S1, S2, S3 value.\n",
    "And Divident(1, 0, 1) represents if a pair(['F1','S1'] or ['F2','S3'] etc) is peresnt in the given A or not.\n",
    "\n",
    "F can have only 5 uniqe values, and S can have only 3 unique values. So we will get only 15 possible combinations of (F , S).\n",
    "So our task is to check, out of these 15 pairs which ones are present in our given list of pairs A.\n",
    "\n",
    "Example:\n",
    "(F1, S2) is present in A. So divident=1 because pair is present in A. divisor=3 because S2=3 ====> P(F=F1|S==S2)=1/3\n",
    "(F3, S1) is NOT present in A. So divident=0 because pair is NOT present in A. divisor=4 because S1=4 ====> P(F=F3|S==S1)=0/4\n",
    "\n",
    "3) --- Q - Now the Question is how we are going to determine a pair is present in A or Not, programatically?\n",
    "\n",
    "Simple we will put all the given pairs in A to a dictionary d as Key.\n",
    "We will set values of key as 0, because we don't care about values we just need our pairs in dictionary as keys.\n",
    "Because dictionary take approx no time to find a key. \n",
    "\n",
    "So if a pair is present in dictionay d as key. We can say, that pair is also present in A. \n",
    "Means if (F1, S2) is in d. divident = 1\n",
    "      if (F1, S2) is NOT in d. divident = 0\n",
    "      \n",
    "But we cannot put a list as key.     Ex - A = [['F1','S1'],['F2','S2'],[\n",
    "So we have to create a list of tuples with same values.     A_tupl = [('F1','S1']), ('F2','S2'])..............]\n",
    "</pre>"
   ]
  },
  {
   "cell_type": "code",
   "execution_count": 30,
   "metadata": {},
   "outputs": [],
   "source": [
    "def compute_conditional_probabilites(A):\n",
    "    s1 = s2 = s3 = 0\n",
    "    for pair in A:                  # count occurance of S1, S2, S3 in given list of Pairs.\n",
    "        if pair[1] == \"S1\":\n",
    "            s1+=1\n",
    "        elif pair[1] == \"S2\":\n",
    "            s2+=1\n",
    "        else:\n",
    "            s3+=1                   # S1, S2, S3 are int() now, we will change them is str() in our output.\n",
    "    \n",
    "    \n",
    "    # Creating List of Tuples from A\n",
    "    A_tupl = []\n",
    "    for pair in A:\n",
    "        A_tupl.append(tuple(pair))\n",
    "        \n",
    "    \n",
    "    # creating dictionary of pair values.\n",
    "    d = {}\n",
    "    for pair in A_tupl:\n",
    "        d[pair] = 0\n",
    "    \n",
    "    \n",
    "    # all required code to check pair is in d or not and print the desired output\n",
    "    F = ['F1', 'F2', 'F3', 'F4', 'F5']\n",
    "    S = ['S1', 'S2', 'S3']\n",
    "    s_vals = [s1, s2, s3]   # s_vals = [4, 3 , 3]\n",
    "    \n",
    "    abc = ['a', 'b', 'c', 'd', 'e']\n",
    "    alpha_count = 0\n",
    "    count = -1\n",
    "    for f in F:\n",
    "        print(abc[alpha_count] + \".\", end = \" \")  # to print a,b,c... in output\n",
    "        alpha_count+=1\n",
    "        for s in S:\n",
    "            test_pair = tuple((f, s))   # creating all possible 15 combinations in each iteration.\n",
    "            \n",
    "            count = count + 1\n",
    "            sv = s_vals[count]\n",
    "            \n",
    "            if test_pair in d.keys():   # testing if created combination of pair is present in d or not.\n",
    "                print(\"P(F=)\"+ f +\"|S==\"+ s +\")=1/\"+ str(sv), end = \" \") # if present: print the output as \"1/\" + S value\n",
    "            else: \n",
    "                print(\"P(F=)\"+ f +\"|S==\"+ s +\")=0/\"+ str(sv), end = \" \") # if NOT: print the output as \"0/\" + S value\n",
    "        print()\n",
    "        count = -1\n",
    "        \n",
    "    return None # this fuction prints the required output."
   ]
  },
  {
   "cell_type": "code",
   "execution_count": 31,
   "metadata": {},
   "outputs": [
    {
     "name": "stdout",
     "output_type": "stream",
     "text": [
      "a. P(F=)F1|S==S1)=1/4 P(F=)F1|S==S2)=1/3 P(F=)F1|S==S3)=0/3 \n",
      "b. P(F=)F2|S==S1)=1/4 P(F=)F2|S==S2)=1/3 P(F=)F2|S==S3)=1/3 \n",
      "c. P(F=)F3|S==S1)=0/4 P(F=)F3|S==S2)=1/3 P(F=)F3|S==S3)=1/3 \n",
      "d. P(F=)F4|S==S1)=1/4 P(F=)F4|S==S2)=0/3 P(F=)F4|S==S3)=1/3 \n",
      "e. P(F=)F5|S==S1)=1/4 P(F=)F5|S==S2)=0/3 P(F=)F5|S==S3)=0/3 \n"
     ]
    }
   ],
   "source": [
    "A = [['F1','S1'],['F2','S2'],['F3','S3'],['F1','S2'],['F2','S3'],['F3','S2'],['F2','S1'],['F4','S1'],['F4','S3'],['F5','S1']]\n",
    "\n",
    "compute_conditional_probabilites(A)"
   ]
  },
  {
   "cell_type": "markdown",
   "metadata": {
    "colab_type": "text",
    "id": "n4HS87QmB-lF"
   },
   "source": [
    "<h3> Q9: Given two sentances S1, S2</h3>\n",
    "You will be given two sentances S1, S2 your task is to find \n",
    "<pre>\n",
    "a. Number of common words between S1, S2\n",
    "b. Words in S1 but not in S2\n",
    "c. Words in S2 but not in S1\n",
    "</pre>\n",
    "\n",
    "Ex: \n",
    "<pre>\n",
    "S1= \"the first column F will contain only 5 uniques values\"\n",
    "S2= \"the second column S will contain only 3 uniques values\"\n",
    "Output:\n",
    "a. 7\n",
    "b. ['first','F','5']\n",
    "c. ['second','S','3']\n",
    "</pre>"
   ]
  },
  {
   "cell_type": "code",
   "execution_count": 32,
   "metadata": {},
   "outputs": [
    {
     "name": "stdout",
     "output_type": "stream",
     "text": [
      "a. 7\n",
      "b. ['F', 'first', '5']\n",
      "c. ['second', 'S', '3']\n"
     ]
    }
   ],
   "source": [
    "def string_features(S1, S2):\n",
    "    set1 = set(S1.split())\n",
    "    set2 = set(S2.split())\n",
    "    \n",
    "    a = len(set1.intersection(set2))     # just using built-in set functions: intersection, difference.\n",
    "    \n",
    "    b = list(set1.difference(set2))\n",
    "    \n",
    "    c = list(set2.difference(set1))\n",
    "    \n",
    "    return a, b, c\n",
    "\n",
    "S1= \"the first column F will contain only 5 uniques values\"\n",
    "S2= \"the second column S will contain only 3 uniques values\"\n",
    "\n",
    "a,b,c = string_features(S1, S2)\n",
    "\n",
    "print(\"a.\", a)\n",
    "print(\"b.\", b)\n",
    "print(\"c.\", c)"
   ]
  },
  {
   "cell_type": "code",
   "execution_count": 33,
   "metadata": {},
   "outputs": [
    {
     "name": "stdout",
     "output_type": "stream",
     "text": [
      "a. 0\n",
      "b. ['How', 'you', 'are']\n",
      "c. ['am', 'I', 'fine']\n"
     ]
    }
   ],
   "source": [
    "s1 = \"How are you\"\n",
    "s2 = \"I am fine\"\n",
    "\n",
    "a,b,c = string_features(s1, s2)\n",
    "print(\"a.\", a)\n",
    "print(\"b.\", b)\n",
    "print(\"c.\", c)"
   ]
  },
  {
   "cell_type": "markdown",
   "metadata": {
    "colab_type": "text",
    "id": "XefXVEjCB-lI"
   },
   "source": [
    "<h3> Q10: Given two sentances S1, S2</h3>\n",
    "You will be given a list of lists, each sublist will be of length 2 i.e. [[x,y],[p,q],[l,m]..[r,s]]\n",
    "consider its like a martrix of n rows and two columns\n",
    "\n",
    "a. the first column Y will contain interger values <br>\n",
    "b. the second column $Y_{score}$ will be having float values <br>\n",
    "Your task is to find the value of $f(Y,Y_{score}) = -1*\\frac{1}{n}\\Sigma_{for each Y,Y_{score} pair}(Ylog10(Y_{score})+(1-Y)log10(1-Y_{score}))$ here n is the number of rows in the matrix\n",
    "<pre>\n",
    "Ex:\n",
    "[[1, 0.4], [0, 0.5], [0, 0.9], [0, 0.3], [0, 0.6], [1, 0.1], [1, 0.9], [1, 0.8]]\n",
    "output:\n",
    "0.4243099\n",
    "</pre>\n",
    "$\\frac{-1}{8}\\cdot((1\\cdot log_{10}(0.4)+0\\cdot log_{10}(0.6))+(0\\cdot log_{10}(0.5)+1\\cdot log_{10}(0.5)) + ... + (1\\cdot log_{10}(0.8)+0\\cdot log_{10}(0.2)) )$"
   ]
  },
  {
   "cell_type": "code",
   "execution_count": 34,
   "metadata": {},
   "outputs": [],
   "source": [
    "def compute_log_loss(A):\n",
    "    sigma = 0\n",
    "    for pair in A:\n",
    "        y = pair[0]\n",
    "        y_score = pair[1]\n",
    "        \n",
    "        sigma = sigma + ( (y * math.log10(y_score)) + ((1 - y)*math.log10(1 - y_score)) )  # simply applying the given formula\n",
    "    \n",
    "    loss = -1 * (sigma / len(A))\n",
    "    \n",
    "    return loss"
   ]
  },
  {
   "cell_type": "code",
   "execution_count": 35,
   "metadata": {},
   "outputs": [
    {
     "name": "stdout",
     "output_type": "stream",
     "text": [
      "loss = 0.42430993457031635\n"
     ]
    }
   ],
   "source": [
    "A = [[1, 0.4], [0, 0.5], [0, 0.9], [0, 0.3], [0, 0.6], [1, 0.1], [1, 0.9], [1, 0.8]]\n",
    "loss = compute_log_loss(A)\n",
    "print(\"loss =\", loss)"
   ]
  },
  {
   "cell_type": "code",
   "execution_count": null,
   "metadata": {},
   "outputs": [],
   "source": []
  }
 ],
 "metadata": {
  "kernelspec": {
   "display_name": "Python 3",
   "language": "python",
   "name": "python3"
  },
  "language_info": {
   "codemirror_mode": {
    "name": "ipython",
    "version": 3
   },
   "file_extension": ".py",
   "mimetype": "text/x-python",
   "name": "python",
   "nbconvert_exporter": "python",
   "pygments_lexer": "ipython3",
   "version": "3.7.7"
  }
 },
 "nbformat": 4,
 "nbformat_minor": 4
}
