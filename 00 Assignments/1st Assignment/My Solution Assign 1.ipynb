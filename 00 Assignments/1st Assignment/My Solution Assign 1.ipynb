{
 "cells": [
  {
   "cell_type": "markdown",
   "metadata": {},
   "source": [
    "# Assignment 1 - Python: without numpy or sklearn \n",
    "Name: Devendra Bharti\n",
    " | Email: kumardev0614@gmail.com"
   ]
  },
  {
   "cell_type": "code",
   "execution_count": 87,
   "metadata": {},
   "outputs": [],
   "source": [
    "import seaborn as sns"
   ]
  },
  {
   "cell_type": "markdown",
   "metadata": {},
   "source": [
    "### Q1: Given two matrices please print the product of those two matrices"
   ]
  },
  {
   "cell_type": "code",
   "execution_count": 24,
   "metadata": {},
   "outputs": [],
   "source": [
    "def matrix_dot_product(A, B):\n",
    "    if( len(A) == 0 or len(B) == 0 ):\n",
    "        return print('Matrix cannot be empty')\n",
    "    \n",
    "    if len(A[0]) != len(B):\n",
    "        return print('Matrix Multiplication is not possible!')\n",
    "    \n",
    "    result = []                                     \n",
    "    for I in range(len(A)):                      \n",
    "        temp = []                                \n",
    "        for j in range(len(B[0])):\n",
    "            value = 0\n",
    "            for i in range(len(A[0])):\n",
    "                value += (A[I][i] * B[i][j])\n",
    "            temp.append(value)\n",
    "        result.append(temp)\n",
    "    \n",
    "    return result"
   ]
  },
  {
   "cell_type": "code",
   "execution_count": 26,
   "metadata": {},
   "outputs": [
    {
     "name": "stdout",
     "output_type": "stream",
     "text": [
      "[1, 3, 4]\n",
      "[2, 5, 7]\n",
      "[5, 9, 6]\n"
     ]
    }
   ],
   "source": [
    "# Examlpe 1\n",
    "A   =  [[1,3,4],\n",
    "        [2,5,7],\n",
    "        [5,9,6]]\n",
    "\n",
    "B   =  [[1,0,0],\n",
    "        [0,1,0],\n",
    "        [0,0,1]]\n",
    "\n",
    "result = matrix_dot_product(A, B)\n",
    "\n",
    "print(result[0])\n",
    "print(result[1])\n",
    "print(result[2])"
   ]
  },
  {
   "cell_type": "code",
   "execution_count": 27,
   "metadata": {
    "scrolled": true
   },
   "outputs": [
    {
     "name": "stdout",
     "output_type": "stream",
     "text": [
      "[11, 14, 17, 20, 23]\n",
      "[23, 30, 37, 44, 51]\n"
     ]
    }
   ],
   "source": [
    "# Example 2\n",
    "A   =  [[1,2],\n",
    "        [3,4]]\n",
    "\n",
    "B   =  [[1,2,3,4,5],\n",
    "        [5,6,7,8,9]]\n",
    "\n",
    "result = matrix_dot_product(A, B)\n",
    "\n",
    "print(result[0])\n",
    "print(result[1])"
   ]
  },
  {
   "cell_type": "code",
   "execution_count": 29,
   "metadata": {},
   "outputs": [
    {
     "name": "stdout",
     "output_type": "stream",
     "text": [
      "Matrix Multiplication is not possible!\n"
     ]
    }
   ],
   "source": [
    "# Example 3\n",
    "A   =  [[1,2],\n",
    "        [3,4]]\n",
    "\n",
    "B   =  [[1,4],\n",
    "        [5,6],\n",
    "        [7,8],\n",
    "        [9,6]]\n",
    "\n",
    "result = matrix_dot_product(A, B)"
   ]
  },
  {
   "cell_type": "markdown",
   "metadata": {},
   "source": [
    "### Q2: Select a number randomly with probability proportional to its magnitude from the given array of n elements"
   ]
  },
  {
   "cell_type": "code",
   "execution_count": 102,
   "metadata": {},
   "outputs": [],
   "source": [
    "from random import uniform"
   ]
  },
  {
   "cell_type": "code",
   "execution_count": 103,
   "metadata": {},
   "outputs": [],
   "source": [
    "myArray = [0, 5, 27, 6, 13, 28, 100, 45, 10, 79]"
   ]
  },
  {
   "cell_type": "code",
   "execution_count": 104,
   "metadata": {},
   "outputs": [],
   "source": [
    "def pick_a_number_from_list(A, cumlative_sum):\n",
    "    \n",
    "    # picking r from continous uniform distribution of [0,1]\n",
    "    r = uniform(0,1)  \n",
    "    count = 0\n",
    "    for ele in cumlative_sum:\n",
    "        if r <= ele:\n",
    "            return A[count] #selected_random_number\n",
    "        else:\n",
    "            count+= 1\n",
    "\n",
    "\n",
    "def sampling_based_on_magnitued(A):\n",
    "    \n",
    "    A.sort()\n",
    "    total = sum(A)\n",
    "    \n",
    "    cumlative_sum = [0]\n",
    "    # list to save cumlative sum values\n",
    "    # 0 is given to run cumlative_sum[-1] in for loop for first time.\n",
    "    \n",
    "    for ele in A:\n",
    "        cumlative_sum.append(cumlative_sum[-1] + (ele/total))\n",
    "        # append(last value in same list + element in A / total ) \n",
    "    del cumlative_sum[0]\n",
    "    \n",
    "    lst = []\n",
    "    for i in range(1,100):\n",
    "        number = pick_a_number_from_list(A, cumlative_sum)\n",
    "        lst.append(number)  # appending all picked values in list \"lst\"\n",
    "    return lst"
   ]
  },
  {
   "cell_type": "code",
   "execution_count": 108,
   "metadata": {},
   "outputs": [
    {
     "name": "stdout",
     "output_type": "stream",
     "text": [
      "[100, 45, 79, 45, 10, 79, 100, 100, 100, 28, 100, 100, 100, 5, 100, 79, 100, 100, 10, 100, 28, 79, 79, 100, 28, 79, 28, 27, 28, 45, 100, 79, 79, 100, 45, 79, 100, 45, 100, 100, 100, 100, 13, 27, 100, 79, 100, 28, 100, 79, 79, 79, 79, 100, 13, 100, 28, 100, 27, 45, 100, 79, 28, 27, 100, 100, 79, 100, 45, 100, 6, 10, 27, 100, 28, 100, 79, 79, 100, 28, 100, 79, 100, 79, 28, 100, 79, 45, 45, 13, 100, 79, 10, 100, 45, 45, 100, 45, 100]\n"
     ]
    },
    {
     "data": {
      "text/plain": [
       "<matplotlib.axes._subplots.AxesSubplot at 0x2bfa9371cc8>"
      ]
     },
     "execution_count": 108,
     "metadata": {},
     "output_type": "execute_result"
    },
    {
     "data": {
      "image/png": "[encoded data removed]",
      "text/plain": [
       "<Figure size 432x288 with 1 Axes>"
      ]
     },
     "metadata": {
      "needs_background": "light"
     },
     "output_type": "display_data"
    }
   ],
   "source": [
    "# calling sampling function\n",
    "l = sampling_based_on_magnitued(myArray)   \n",
    "print(l)\n",
    "\n",
    "sns.countplot(l) # countplot of sampled values"
   ]
  },
  {
   "cell_type": "markdown",
   "metadata": {
    "colab_type": "text",
    "id": "D1xQy2WWB-kq"
   },
   "source": [
    "<h3> Q3: Replace the digits in the string with #</h3>\n",
    "\n",
    "consider a string that will have digits in that, we need to remove all the not digits and replace the digits with #\n",
    "<pre>\n",
    "Ex 1: A = 234                Output: ###\n",
    "Ex 2: A = a2b3c4             Output: ###\n",
    "Ex 3: A = abc                Output:   (empty string)\n",
    "Ex 5: A = #2a$#b%c%561#      Output: ####\n",
    "</pre>"
   ]
  },
  {
   "cell_type": "code",
   "execution_count": null,
   "metadata": {
    "colab": {},
    "colab_type": "code",
    "id": "fxczi2jzB-kr"
   },
   "outputs": [],
   "source": [
    "import re\n",
    "# write your python code here\n",
    "# you can take the above example as sample input for your program to test\n",
    "# it should work for any general input try not to hard code for only given input examples\n",
    "\n",
    "# you can free to change all these codes/structure\n",
    "# String: it will be the input to your program\n",
    "def replace_digits(String):\n",
    "    # write your code\n",
    "    # \n",
    "    return() # modified string which is after replacing the # with digits\n",
    "\n",
    "replace_digits(String)"
   ]
  },
  {
   "cell_type": "code",
   "execution_count": null,
   "metadata": {},
   "outputs": [],
   "source": []
  }
 ],
 "metadata": {
  "kernelspec": {
   "display_name": "Python 3",
   "language": "python",
   "name": "python3"
  },
  "language_info": {
   "codemirror_mode": {
    "name": "ipython",
    "version": 3
   },
   "file_extension": ".py",
   "mimetype": "text/x-python",
   "name": "python",
   "nbconvert_exporter": "python",
   "pygments_lexer": "ipython3",
   "version": "3.7.7"
  }
 },
 "nbformat": 4,
 "nbformat_minor": 4
}
