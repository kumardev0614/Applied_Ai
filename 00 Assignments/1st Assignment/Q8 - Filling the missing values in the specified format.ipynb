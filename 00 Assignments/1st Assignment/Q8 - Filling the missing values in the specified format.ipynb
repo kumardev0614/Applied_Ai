{
 "cells": [
  {
   "cell_type": "code",
   "execution_count": 1,
   "metadata": {},
   "outputs": [],
   "source": [
    "# write your python code here\n",
    "# you can take the above example as sample input for your program to test\n",
    "# it should work for any general input try not to hard code for only given input strings\n",
    "\n",
    "\n",
    "\n",
    "# you can free to change all these codes/structure\n",
    "def compute_conditional_probabilites(A):\n",
    "    # your code\n",
    "    # print the output as per the instructions\n",
    "    return\n",
    "\n",
    "A = [['F1','S1'],['F2','S2'],['F3','S3'],['F1','S2'],['F2','S3'],['F3','S2'],['F2','S1'],['F4','S1'],['F4','S3'],['F5','S1']]\n",
    "\n",
    "compute_conditional_probabilites(A)"
   ]
  },
  {
   "cell_type": "markdown",
   "metadata": {
    "colab_type": "text",
    "id": "RBz4pzlfB-lB"
   },
   "source": [
    "<h3> Q8: Filling the missing values in the specified formate</h3>\n",
    "You will be given a list of lists, each sublist will be of length 2 i.e. [[x,y],[p,q],[l,m]..[r,s]]\n",
    "consider its like a martrix of n rows and two columns\n",
    "1. the first column F will contain only 5 uniques values (F1, F2, F3, F4, F5)\n",
    "2. the second column S will contain only 3 uniques values (S1, S2, S3)\n",
    "<pre>\n",
    "your task is to find\n",
    "a. Probability of P(F=F1|S==S1), P(F=F1|S==S2), P(F=F1|S==S3)\n",
    "b. Probability of P(F=F2|S==S1), P(F=F2|S==S2), P(F=F2|S==S3)\n",
    "c. Probability of P(F=F3|S==S1), P(F=F3|S==S2), P(F=F3|S==S3)\n",
    "d. Probability of P(F=F4|S==S1), P(F=F4|S==S2), P(F=F4|S==S3)\n",
    "e. Probability of P(F=F5|S==S1), P(F=F5|S==S2), P(F=F5|S==S3)\n",
    "</pre>\n",
    "Ex:\n",
    "\n",
    "<pre>\n",
    "[[F1,S1],[F2,S2],[F3,S3],[F1,S2],[F2,S3],[F3,S2],[F2,S1],[F4,S1],[F4,S3],[F5,S1]]\n",
    "\n",
    "a. P(F=F1|S==S1)=1/4, P(F=F1|S==S2)=1/3, P(F=F1|S==S3)=0/3\n",
    "b. P(F=F2|S==S1)=1/4, P(F=F2|S==S2)=1/3, P(F=F2|S==S3)=1/3\n",
    "c. P(F=F3|S==S1)=0/4, P(F=F3|S==S2)=1/3, P(F=F3|S==S3)=1/3\n",
    "d. P(F=F4|S==S1)=1/4, P(F=F4|S==S2)=0/3, P(F=F4|S==S3)=1/3\n",
    "e. P(F=F5|S==S1)=1/4, P(F=F5|S==S2)=0/3, P(F=F5|S==S3)=0/3\n",
    "</pre>\n",
    "\n",
    "\n"
   ]
  },
  {
   "cell_type": "code",
   "execution_count": 2,
   "metadata": {},
   "outputs": [],
   "source": [
    "A = [['F1','S1'],['F2','S2'],['F3','S3'],['F1','S2'],['F2','S3'],['F3','S2'],['F2','S1'],['F4','S1'],['F4','S3'],['F5','S1']]"
   ]
  },
  {
   "cell_type": "code",
   "execution_count": 6,
   "metadata": {},
   "outputs": [
    {
     "name": "stdout",
     "output_type": "stream",
     "text": [
      "[('F1', 'S1'), ('F2', 'S2'), ('F3', 'S3'), ('F1', 'S2'), ('F2', 'S3'), ('F3', 'S2'), ('F2', 'S1'), ('F4', 'S1'), ('F4', 'S3'), ('F5', 'S1')]\n"
     ]
    }
   ],
   "source": [
    "A_tupl = []\n",
    "for pair in A:\n",
    "    A_tupl.append(tuple(pair))\n",
    "    \n",
    "print(A_tupl)"
   ]
  },
  {
   "cell_type": "code",
   "execution_count": 15,
   "metadata": {},
   "outputs": [],
   "source": [
    "d = {}\n",
    "for pair in A_tupl:\n",
    "    d[pair] = 0"
   ]
  },
  {
   "cell_type": "code",
   "execution_count": 16,
   "metadata": {},
   "outputs": [
    {
     "data": {
      "text/plain": [
       "{('F1', 'S1'): 0,\n",
       " ('F2', 'S2'): 0,\n",
       " ('F3', 'S3'): 0,\n",
       " ('F1', 'S2'): 0,\n",
       " ('F2', 'S3'): 0,\n",
       " ('F3', 'S2'): 0,\n",
       " ('F2', 'S1'): 0,\n",
       " ('F4', 'S1'): 0,\n",
       " ('F4', 'S3'): 0,\n",
       " ('F5', 'S1'): 0}"
      ]
     },
     "execution_count": 16,
     "metadata": {},
     "output_type": "execute_result"
    }
   ],
   "source": [
    "d"
   ]
  },
  {
   "cell_type": "code",
   "execution_count": 23,
   "metadata": {},
   "outputs": [
    {
     "name": "stdout",
     "output_type": "stream",
     "text": [
      "s1 = 4 s2 = 3 s3 = 3\n"
     ]
    }
   ],
   "source": [
    "s1 = s2 = s3 = 0\n",
    "for pair in A:\n",
    "    if pair[1] == \"S1\":\n",
    "        s1+=1\n",
    "    elif pair[1] == \"S2\":\n",
    "        s2+=1\n",
    "    else:\n",
    "        s3+=1\n",
    "print(\"s1 =\", s1, \"s2 =\", s2, \"s3 =\", s3)"
   ]
  },
  {
   "cell_type": "code",
   "execution_count": 17,
   "metadata": {},
   "outputs": [],
   "source": [
    "F = ['F1', 'F2', 'F3', 'F4', 'F5']\n",
    "S = ['S1', 'S2', 'S3']"
   ]
  },
  {
   "cell_type": "code",
   "execution_count": 26,
   "metadata": {},
   "outputs": [
    {
     "data": {
      "text/plain": [
       "[4, 3, 3]"
      ]
     },
     "execution_count": 26,
     "metadata": {},
     "output_type": "execute_result"
    }
   ],
   "source": [
    "s_vals = [s1, s2, s3]\n",
    "s_vals"
   ]
  },
  {
   "cell_type": "code",
   "execution_count": 39,
   "metadata": {},
   "outputs": [
    {
     "name": "stdout",
     "output_type": "stream",
     "text": [
      "a. P(F=)F1|S==S1)=1/4 P(F=)F1|S==S2)=1/3 P(F=)F1|S==S3)=0/3 \n",
      "b. P(F=)F2|S==S1)=1/4 P(F=)F2|S==S2)=1/3 P(F=)F2|S==S3)=1/3 \n",
      "c. P(F=)F3|S==S1)=0/4 P(F=)F3|S==S2)=1/3 P(F=)F3|S==S3)=1/3 \n",
      "d. P(F=)F4|S==S1)=1/4 P(F=)F4|S==S2)=0/3 P(F=)F4|S==S3)=1/3 \n",
      "e. P(F=)F5|S==S1)=1/4 P(F=)F5|S==S2)=0/3 P(F=)F5|S==S3)=0/3 \n"
     ]
    }
   ],
   "source": [
    "#   P(F=F1|S==S1)=1/4, P(F=F1|S==S2)=1/3, P(F=F1|S==S3)=0/3\n",
    "abc = ['a', 'b', 'c', 'd', 'e']\n",
    "alpha_count = 0\n",
    "count = -1\n",
    "for f in F:\n",
    "    print(abc[alpha_count] + \".\", end = \" \")\n",
    "    alpha_count+=1\n",
    "    for s in S:\n",
    "        # print(tuple((f, s)))\n",
    "        test_pair = tuple((f, s))\n",
    "        \n",
    "        count = count + 1\n",
    "        # print(\"count =\", count)\n",
    "        sv = s_vals[count]\n",
    "        # print(\"sv =\", sv)\n",
    "        \n",
    "        if test_pair in d.keys(): \n",
    "            # print(\"Present, \")\n",
    "            print(\"P(F=)\"+ f +\"|S==\"+ s +\")=1/\"+ str(sv), end = \" \")\n",
    "        else: \n",
    "            # print(\"Not present\")\n",
    "            print(\"P(F=)\"+ f +\"|S==\"+ s +\")=0/\"+ str(sv), end = \" \")\n",
    "    print()\n",
    "    count = -1"
   ]
  },
  {
   "cell_type": "markdown",
   "metadata": {},
   "source": [
    "##### Explaination\n",
    "<pre>1) --- As We can see in output S1, S2, S3 are always same. And these S1, S2 and S3 are nothing but count of S1,S2,S3 in given list of list. In our example S1 = 4, S2 = 3, S3 = 3. \n",
    "So we will count thses values only once from our list of pairs and put them in output.\n",
    "\n",
    "2) --- In our probabiliy value 1/4 or 0/3 or 1/3. Divisor(4, 3, 3) is our S1, S2, S3 value.\n",
    "And Divident(1, 0, 1) represents if a pair(['F1','S1'] or ['F2','S3'] etc) is peresnt in the given A or not.\n",
    "\n",
    "F can have only 5 uniqe values, and S can have only 3 unique values. So we will get only 15 possible combinations of (F , S).\n",
    "So our task is to check, out of these 15 pairs which ones are present in our given list of pairs A.\n",
    "\n",
    "Example:\n",
    "(F1, S2) is present in A. So divident=1 because pair is present in A. divisor=3 because S2=3 ====> P(F=F1|S==S2)=1/3\n",
    "(F3, S1) is NOT present in A. So divident=0 because pair is NOT present in A. divisor=4 because S1=4 ====> P(F=F3|S==S1)=0/4\n",
    "\n",
    "3) --- Q - Now the Question is how we are going to determine a pair is present in A or Not, programatically?\n",
    "\n",
    "Simple we will put all the given pairs in A to a dictionary d as Key.\n",
    "We will set values of key as 0, because we don't care about values we just need our pairs in dictionary as keys.\n",
    "Because dictionary take approx no time to find a key. \n",
    "\n",
    "So if a pair is present in dictionay d as key. We can say, that pair is also present in A. \n",
    "Means if (F1, S2) is in d. divident = 1\n",
    "      if (F1, S2) is NOT in d. divident = 0\n",
    "      \n",
    "But we cannot put a list as key.     Ex - A = [['F1','S1'],['F2','S2'],[\n",
    "So we have to create a list of tuples with same values.     A_tupl = [('F1','S1']), ('F2','S2'])..............]\n",
    "</pre>"
   ]
  },
  {
   "cell_type": "code",
   "execution_count": 58,
   "metadata": {},
   "outputs": [],
   "source": [
    "def compute_conditional_probabilites(A):\n",
    "    s1 = s2 = s3 = 0\n",
    "    for pair in A:                  # count occurance of S1, S2, S3 in given list of Pairs.\n",
    "        if pair[1] == \"S1\":\n",
    "            s1+=1\n",
    "        elif pair[1] == \"S2\":\n",
    "            s2+=1\n",
    "        else:\n",
    "            s3+=1                   # S1, S2, S3 are int() now, we will change them is str() in our output.\n",
    "    print(\"s1 =\", s1, \"s2 =\", s2, \"s3 =\", s3)\n",
    "    \n",
    "    # Creating List of Tuples from A\n",
    "    A_tupl = []\n",
    "    for pair in A:\n",
    "        A_tupl.append(tuple(pair))  \n",
    "    print(\"    A_tupl:\" ,A_tupl)\n",
    "    \n",
    "    # creating dictionary of pair values.\n",
    "    d = {}\n",
    "    for pair in A_tupl:\n",
    "        d[pair] = 0\n",
    "    print(\"    d:\" ,d)\n",
    "    \n",
    "    print()\n",
    "    # all required code to check pair is in d or not and print the desired output\n",
    "    F = ['F1', 'F2', 'F3', 'F4', 'F5']\n",
    "    S = ['S1', 'S2', 'S3']\n",
    "    s_vals = [s1, s2, s3]   # s_vals = [4, 3 , 3]\n",
    "    \n",
    "    abc = ['a', 'b', 'c', 'd', 'e']\n",
    "    alpha_count = 0\n",
    "    count = -1\n",
    "    for f in F:\n",
    "        print(abc[alpha_count] + \".\", end = \" \")  # to print a,b,c... in output\n",
    "        alpha_count+=1\n",
    "        for s in S:\n",
    "            # print(tuple((f, s)))\n",
    "            test_pair = tuple((f, s))   # creating all possible 15 combinations in each iteration.\n",
    "            \n",
    "            count = count + 1\n",
    "            # print(\"count =\", count)\n",
    "            sv = s_vals[count]\n",
    "            # print(\"sv =\", sv)\n",
    "            \n",
    "            if test_pair in d.keys():   # testing if created combination of pair is present in d or not.\n",
    "                # print(\"Present, \")\n",
    "                print(\"P(F=)\"+ f +\"|S==\"+ s +\")=1/\"+ str(sv), end = \" \") # if present: print the output as \"1/\" + S value\n",
    "            else: \n",
    "                # print(\"Not present\")\n",
    "                print(\"P(F=)\"+ f +\"|S==\"+ s +\")=0/\"+ str(sv), end = \" \") # if NOT: print the output as \"0/\" + S value\n",
    "        print()\n",
    "        count = -1\n",
    "        \n",
    "    return None # this fuction prints the required output."
   ]
  },
  {
   "cell_type": "code",
   "execution_count": 59,
   "metadata": {},
   "outputs": [
    {
     "name": "stdout",
     "output_type": "stream",
     "text": [
      "s1 = 4 s2 = 3 s3 = 3\n",
      "    A_tupl: [('F1', 'S1'), ('F2', 'S2'), ('F3', 'S3'), ('F1', 'S2'), ('F2', 'S3'), ('F3', 'S2'), ('F2', 'S1'), ('F4', 'S1'), ('F4', 'S3'), ('F5', 'S1')]\n",
      "    d: {('F1', 'S1'): 0, ('F2', 'S2'): 0, ('F3', 'S3'): 0, ('F1', 'S2'): 0, ('F2', 'S3'): 0, ('F3', 'S2'): 0, ('F2', 'S1'): 0, ('F4', 'S1'): 0, ('F4', 'S3'): 0, ('F5', 'S1'): 0}\n",
      "\n",
      "a. P(F=)F1|S==S1)=1/4 P(F=)F1|S==S2)=1/3 P(F=)F1|S==S3)=0/3 \n",
      "b. P(F=)F2|S==S1)=1/4 P(F=)F2|S==S2)=1/3 P(F=)F2|S==S3)=1/3 \n",
      "c. P(F=)F3|S==S1)=0/4 P(F=)F3|S==S2)=1/3 P(F=)F3|S==S3)=1/3 \n",
      "d. P(F=)F4|S==S1)=1/4 P(F=)F4|S==S2)=0/3 P(F=)F4|S==S3)=1/3 \n",
      "e. P(F=)F5|S==S1)=1/4 P(F=)F5|S==S2)=0/3 P(F=)F5|S==S3)=0/3 \n"
     ]
    }
   ],
   "source": [
    "A = [['F1','S1'],['F2','S2'],['F3','S3'],['F1','S2'],['F2','S3'],['F3','S2'],['F2','S1'],['F4','S1'],['F4','S3'],['F5','S1']]\n",
    "\n",
    "compute_conditional_probabilites(A)"
   ]
  },
  {
   "cell_type": "code",
   "execution_count": null,
   "metadata": {},
   "outputs": [],
   "source": []
  }
 ],
 "metadata": {
  "kernelspec": {
   "display_name": "Python 3",
   "language": "python",
   "name": "python3"
  },
  "language_info": {
   "codemirror_mode": {
    "name": "ipython",
    "version": 3
   },
   "file_extension": ".py",
   "mimetype": "text/x-python",
   "name": "python",
   "nbconvert_exporter": "python",
   "pygments_lexer": "ipython3",
   "version": "3.7.7"
  }
 },
 "nbformat": 4,
 "nbformat_minor": 4
}
