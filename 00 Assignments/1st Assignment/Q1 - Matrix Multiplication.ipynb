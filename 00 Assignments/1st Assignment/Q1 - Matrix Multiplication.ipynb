{
 "cells": [
  {
   "cell_type": "code",
   "execution_count": 1,
   "metadata": {
    "scrolled": true
   },
   "outputs": [
    {
     "name": "stdout",
     "output_type": "stream",
     "text": [
      "Number of columns in A: 3\n",
      "Number of rows in B: 3\n",
      "[[1, 2, 3], [4, 5, 6], [7, 8, 9]]\n",
      "[[1, 2, 3, 4, 5], [5, 6, 7, 8, 9], [1, 1, 1, 1, 1]]\n"
     ]
    }
   ],
   "source": [
    "A   =  [[1,2,3],\n",
    "        [4,5,6],\n",
    "        [7,8,9]]\n",
    "\n",
    "B   =  [[1,2,3,4,5],\n",
    "        [5,6,7,8,9],\n",
    "        [1,1,1,1,1]]\n",
    "\n",
    "print('Number of columns in A:', len(A[0]))  # Number of columns in A\n",
    "print('Number of rows in B:', len(B))     # Number of rows in B\n",
    "\n",
    "print(A)\n",
    "print(B)"
   ]
  },
  {
   "cell_type": "code",
   "execution_count": 2,
   "metadata": {},
   "outputs": [],
   "source": [
    "def mm(A, B):\n",
    "    if( len(A) == 0 or len(B) == 0 ):\n",
    "        return print('Matrix cannot be empty')\n",
    "    \n",
    "    if len(A[0]) != len(B):\n",
    "        return print('Matrix Multiplication is not possible!')\n",
    "    \n",
    "    result = []                                     \n",
    "    for I in range(len(A)):                      # I = [0, 1]\n",
    "        temp = []                                \n",
    "        for j in range(len(B[0])):               # j = [0, 1, 2, 3, 4]\n",
    "            value = 0                            # individual value, v = 0+1,   v = 1 + 10,   v = 11 + 27=>14\n",
    "            for i in range(len(A[0])):           # i = [0, 1, 2]\n",
    "                value += (A[I][i] * B[i][j])     # A[0][0] * B[0][0] +  A[0][1]*B[1][0] +  A[0][2]*B[2][0]  ==> 14\n",
    "            temp.append(value)                   # temp.append(38)\n",
    "        result.append(temp)\n",
    "    \n",
    "    return result"
   ]
  },
  {
   "cell_type": "code",
   "execution_count": 3,
   "metadata": {},
   "outputs": [],
   "source": [
    "r = mm(A, B)"
   ]
  },
  {
   "cell_type": "code",
   "execution_count": 4,
   "metadata": {},
   "outputs": [
    {
     "name": "stdout",
     "output_type": "stream",
     "text": [
      "[[14, 17, 20, 23, 26], [35, 44, 53, 62, 71], [56, 71, 86, 101, 116]]\n"
     ]
    }
   ],
   "source": [
    "print(r)"
   ]
  },
  {
   "cell_type": "code",
   "execution_count": 5,
   "metadata": {
    "scrolled": false
   },
   "outputs": [
    {
     "name": "stdout",
     "output_type": "stream",
     "text": [
      "[]\n",
      "I =  0\n",
      "j = 0  and v = 0\n",
      "i = 0\n",
      "i = 1\n",
      "i = 2\n",
      "v =  14\n",
      "temp = [14]\n",
      "j = 1  and v = 0\n",
      "i = 0\n",
      "i = 1\n",
      "i = 2\n",
      "v =  17\n",
      "temp = [14, 17]\n",
      "j = 2  and v = 0\n",
      "i = 0\n",
      "i = 1\n",
      "i = 2\n",
      "v =  20\n",
      "temp = [14, 17, 20]\n",
      "j = 3  and v = 0\n",
      "i = 0\n",
      "i = 1\n",
      "i = 2\n",
      "v =  23\n",
      "temp = [14, 17, 20, 23]\n",
      "j = 4  and v = 0\n",
      "i = 0\n",
      "i = 1\n",
      "i = 2\n",
      "v =  26\n",
      "temp = [14, 17, 20, 23, 26]\n",
      "lst = [[14, 17, 20, 23, 26]]\n",
      "[14, 17, 20, 23, 26]\n",
      "I =  1\n",
      "j = 0  and v = 0\n",
      "i = 0\n",
      "i = 1\n",
      "i = 2\n",
      "v =  35\n",
      "temp = [35]\n",
      "j = 1  and v = 0\n",
      "i = 0\n",
      "i = 1\n",
      "i = 2\n",
      "v =  44\n",
      "temp = [35, 44]\n",
      "j = 2  and v = 0\n",
      "i = 0\n",
      "i = 1\n",
      "i = 2\n",
      "v =  53\n",
      "temp = [35, 44, 53]\n",
      "j = 3  and v = 0\n",
      "i = 0\n",
      "i = 1\n",
      "i = 2\n",
      "v =  62\n",
      "temp = [35, 44, 53, 62]\n",
      "j = 4  and v = 0\n",
      "i = 0\n",
      "i = 1\n",
      "i = 2\n",
      "v =  71\n",
      "temp = [35, 44, 53, 62, 71]\n",
      "lst = [[14, 17, 20, 23, 26], [35, 44, 53, 62, 71]]\n",
      "[14, 17, 20, 23, 26]\n",
      "[35, 44, 53, 62, 71]\n",
      "I =  2\n",
      "j = 0  and v = 0\n",
      "i = 0\n",
      "i = 1\n",
      "i = 2\n",
      "v =  56\n",
      "temp = [56]\n",
      "j = 1  and v = 0\n",
      "i = 0\n",
      "i = 1\n",
      "i = 2\n",
      "v =  71\n",
      "temp = [56, 71]\n",
      "j = 2  and v = 0\n",
      "i = 0\n",
      "i = 1\n",
      "i = 2\n",
      "v =  86\n",
      "temp = [56, 71, 86]\n",
      "j = 3  and v = 0\n",
      "i = 0\n",
      "i = 1\n",
      "i = 2\n",
      "v =  101\n",
      "temp = [56, 71, 86, 101]\n",
      "j = 4  and v = 0\n",
      "i = 0\n",
      "i = 1\n",
      "i = 2\n",
      "v =  116\n",
      "temp = [56, 71, 86, 101, 116]\n",
      "lst = [[14, 17, 20, 23, 26], [35, 44, 53, 62, 71], [56, 71, 86, 101, 116]]\n",
      "[14, 17, 20, 23, 26]\n",
      "[35, 44, 53, 62, 71]\n",
      "[56, 71, 86, 101, 116]\n"
     ]
    }
   ],
   "source": [
    "Ai = range(len(A))\n",
    "Aj = range(len(A[0]))\n",
    "Bj = range(len(B[0]))\n",
    "\n",
    "lst = []\n",
    "print(lst)\n",
    "for I in Ai:\n",
    "    temp = []\n",
    "    print(\"I = \", I)\n",
    "    for j in Bj:\n",
    "        v = 0\n",
    "        print('j =', j, ' and v =', v)\n",
    "        for i in Aj:\n",
    "            print('i =', i)\n",
    "            v = v + (A[I][i] * B[i][j])     # A[0][0] * B[0][0],  A[0][1]*B[1][0], A[0][2]*B[2][0]\n",
    "        print('v = ',v)\n",
    "        temp.append(v)\n",
    "        print('temp =', temp)\n",
    "    lst.append(temp)\n",
    "    print('lst =',lst)\n",
    "    for x in lst:print(x)"
   ]
  },
  {
   "cell_type": "code",
   "execution_count": null,
   "metadata": {},
   "outputs": [],
   "source": []
  }
 ],
 "metadata": {
  "kernelspec": {
   "display_name": "Python 3",
   "language": "python",
   "name": "python3"
  },
  "language_info": {
   "codemirror_mode": {
    "name": "ipython",
    "version": 3
   },
   "file_extension": ".py",
   "mimetype": "text/x-python",
   "name": "python",
   "nbconvert_exporter": "python",
   "pygments_lexer": "ipython3",
   "version": "3.7.7"
  }
 },
 "nbformat": 4,
 "nbformat_minor": 4
}
