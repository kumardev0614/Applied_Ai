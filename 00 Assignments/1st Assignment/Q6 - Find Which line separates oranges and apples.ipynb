{
 "cells": [
  {
   "cell_type": "markdown",
   "metadata": {
    "colab_type": "text",
    "id": "-g11jeAiB-k5"
   },
   "source": [
    "<h3> Q6: Find Which line separates oranges and apples</h3>\n",
    "consider you have given two set of data points in the form of list of tuples like \n",
    "<pre>\n",
    "Red =[(R11,R12),(R21,R22),(R31,R32),(R41,R42),(R51,R52),..,(Rn1,Rn2)]\n",
    "Blue=[(B11,B12),(B21,B22),(B31,B32),(B41,B42),(B51,B52),..,(Bm1,Bm2)]\n",
    "</pre>\n",
    "and set of line equations(in the string formate, i.e list of strings)\n",
    "<pre>\n",
    "Lines = [a1x+b1y+c1,a2x+b2y+c2,a3x+b3y+c3,a4x+b4y+c4,..,K lines]\n",
    "Note: you need to string parsing here and get the coefficients of x,y and intercept\n",
    "</pre>\n",
    "your task is to for each line that is given print \"YES\"/\"NO\", you will print yes, if all the red points are one side of the line and blue points are other side of the line, otherwise no\n",
    "<pre>\n",
    "Ex:\n",
    "Red= [(1,1),(2,1),(4,2),(2,4), (-1,4)]\n",
    "Blue= [(-2,-1),(-1,-2),(-3,-2),(-3,-1),(1,-3)]\n",
    "Lines=[\"1x+1y+0\",\"1x-1y+0\",\"1x+0y-3\",\"0x+1y-0.5\"]\n",
    "<img src='https://i.imgur.com/DoQf7mE.jpg' width=400>\n",
    "Output:\n",
    "YES\n",
    "NO\n",
    "NO\n",
    "YES\n",
    "</pre>"
   ]
  },
  {
   "cell_type": "code",
   "execution_count": 1,
   "metadata": {},
   "outputs": [],
   "source": [
    "import math\n",
    "from functools import reduce"
   ]
  },
  {
   "cell_type": "markdown",
   "metadata": {},
   "source": [
    "<h5>Explanation</h5><pre>\n",
    "1) First we will parse a,b,c from Equation of the line passed as string.\n",
    "We have used simple slicing for that.\n",
    "\n",
    "2) Now our task is to check position of each point in Red and Blue. If that point is above or below.\n",
    "check_position() function will do that task.\n",
    "It is taking list of Points(Red or Blue) and parsed a,b,c as arguments.\n",
    "Now we need x and y of each point in Red or Blue list.\n",
    "Using this x and y we will calculate ax + by + c\n",
    "\n",
    "3) Logic to judge point is above or below the line.\n",
    "point is above the line if:-\n",
    "i)  ax + by + c > 0 and b > 0\n",
    "ii) ax + by + c < 0 and b < 0\n",
    "\n",
    "point is below the line if:-\n",
    "i)  ax + by + c > 0 and b < 0\n",
    "ii) ax + by + c < 0 and b > 0\n",
    "\n",
    "point is On the line if:-\n",
    "i)  ax + by + c = 0\n",
    "\n",
    "This function check_position() will return a list called truth_table.\n",
    "In this truth_table we will append 0 if point is above or 1 if point is below.\n",
    "\n",
    "Ex: For line = 1x+0y-3\n",
    "a = 1.0 b = 0.0 c = -3.0\n",
    "[1, 1, 0, 1, 1]   truth_table for Red[(points),(points)....]\n",
    "[1, 1, 1, 1, 1]   truth_table for Blue[(points),(points)...]\n",
    "\n",
    "4) How to check all red points are one side and all blue points are other side of the line.\n",
    "if all red points are on same side our truth_table will look like this [0,0,0,0,0]\n",
    "if all blue points are on same side [1,1,1,1,1]\n",
    "To check red truth_table contains all 0s, sum(truth_table) it should always be zero. 0+0+0+0+0........+0 = 0\n",
    "For Blue mul(truth_table), because 1x1x1x1x1x1.......x1 = 1\n",
    "\n",
    "also 0+0+0+0+1+0+1+........+0 = Not Zero   Means some red points are below the line.\n",
    "     1x1x1x1x0x1x1x0.......x1 = Not One    Means some blue points are above the line.\n",
    "</pre>"
   ]
  },
  {
   "cell_type": "code",
   "execution_count": 2,
   "metadata": {
    "colab": {},
    "colab_type": "code",
    "id": "eRxExaTRB-k6"
   },
   "outputs": [],
   "source": [
    "\n",
    "def check_position(Points, a, b, c):\n",
    "    truth_table= []\n",
    "    for point in Points:\n",
    "        x = point[0]\n",
    "        y = point[1]\n",
    "        axby = (a*x) + (b*y) + c\n",
    "        \n",
    "        if axby == 0:\n",
    "            pass\n",
    "        elif (b >= 0):\n",
    "            if axby > 0:\n",
    "                truth_table.append(0)\n",
    "            else:\n",
    "                truth_table.append(1)\n",
    "        elif b < 0:\n",
    "            if axby < 0:\n",
    "                truth_table.append(0)\n",
    "            else:\n",
    "                truth_table.append(1)\n",
    "    return truth_table\n",
    "        \n",
    "def i_am_the_one(red,blue,line):\n",
    "    \n",
    "    # parsing a,b,c from line string\n",
    "    a = float(line[: line.index('x')])\n",
    "    b = float(line[line.index('x') +1 : line.index('y')])\n",
    "    c = float(line[line.index('y')+1 : ])\n",
    "    print(\"a =\", a, 'b =', b, 'c =', c)\n",
    "    print(\"line =\", line)\n",
    "\n",
    "    print(check_position(red, a, b, c))\n",
    "    print(check_position(blue, a, b, c))\n",
    "    \n",
    "    \n",
    "    result_red = sum(check_position(red, a, b, c))\n",
    "    result_blue = reduce((lambda p, q: p * q), check_position(blue, a, b, c))\n",
    "    print(\"Red\", result_red)\n",
    "    print(\"Blue\", result_blue)\n",
    "    \n",
    "    if (result_red == 0) and (result_blue == 1):\n",
    "        return \"YES\"\n",
    "    else:\n",
    "        return \"NO\""
   ]
  },
  {
   "cell_type": "code",
   "execution_count": 8,
   "metadata": {
    "scrolled": false
   },
   "outputs": [
    {
     "name": "stdout",
     "output_type": "stream",
     "text": [
      "a = 3.0 b = -6.0 c = 12.0\n",
      "line = 3x-6y+12\n",
      "[1, 1, 1, 0, 0, 1]\n",
      "[1, 1, 1, 1, 1]\n",
      "Red 4\n",
      "Blue 1\n",
      "NO\n",
      "---------------------------------------------\n",
      "a = 4.0 b = 5.0 c = 7.0\n",
      "line = 4x+5y+7\n",
      "[0, 0, 0, 0, 0, 1]\n",
      "[1, 1, 1, 1, 1]\n",
      "Red 1\n",
      "Blue 1\n",
      "NO\n",
      "---------------------------------------------\n",
      "a = 3.0 b = 6.0 c = 12.0\n",
      "line = 3x+6y+12\n",
      "[0, 0, 0, 0, 0, 0]\n",
      "[1, 1, 1, 1]\n",
      "Red 0\n",
      "Blue 1\n",
      "YES\n",
      "---------------------------------------------\n",
      "a = 0.0 b = 1.0 c = -0.5\n",
      "line = 0x+1y-0.5\n",
      "[0, 0, 0, 0, 0, 1]\n",
      "[1, 1, 1, 1, 1]\n",
      "Red 1\n",
      "Blue 1\n",
      "NO\n",
      "---------------------------------------------\n"
     ]
    }
   ],
   "source": [
    "Red= [(1,1),(2,1),(4,2),(2,4), (-1,4), (-1,-1)]\n",
    "Blue= [(-2,-1),(-1,-2),(-3,-2),(-3,-1),(1,-3)]\n",
    "Lines=[\"3x-6y+12\",\"4x+5y+7\",\"3x+6y+12\",\"0x+1y-0.5\"]\n",
    "\n",
    "\n",
    "for i in Lines:\n",
    "    yes_or_no = i_am_the_one(Red, Blue, i)\n",
    "    print(yes_or_no)\n",
    "    print(\"---------------------------------------------\")"
   ]
  },
  {
   "cell_type": "code",
   "execution_count": 6,
   "metadata": {},
   "outputs": [
    {
     "name": "stdout",
     "output_type": "stream",
     "text": [
      "a = 3.0 b = -6.0 c = 12.0\n",
      "\n",
      "a = 1.0 b = -1.0 c = 0.0\n",
      "\n",
      "a = 1.0 b = 0.0 c = -3.0\n",
      "\n",
      "a = 0.0 b = 1.0 c = -0.5\n",
      "\n"
     ]
    }
   ],
   "source": [
    "for lin in Lines:\n",
    "    a = float(lin[: lin.index('x')])\n",
    "    b = float(lin[lin.index('x') +1 : lin.index('y')])\n",
    "    c = float(lin[lin.index('y')+1 : ])\n",
    "    \n",
    "    print(\"a =\", a, 'b =', b, 'c =', c)\n",
    "    print()"
   ]
  },
  {
   "cell_type": "code",
   "execution_count": 77,
   "metadata": {},
   "outputs": [
    {
     "name": "stdout",
     "output_type": "stream",
     "text": [
      "a = 1.0 b = -1.0 c = 0.0\n"
     ]
    }
   ],
   "source": [
    "lin = \"1x-1y+0\"\n",
    "a = float(lin[: lin.index('x')])\n",
    "b = float(lin[lin.index('x') +1 : lin.index('y')])\n",
    "c = float(lin[lin.index('y')+1 : ])\n",
    "print(\"a =\", a, 'b =', b, 'c =', c)"
   ]
  },
  {
   "cell_type": "code",
   "execution_count": 78,
   "metadata": {},
   "outputs": [],
   "source": [
    "# axby = (a*x) + (b*y) + c"
   ]
  },
  {
   "cell_type": "code",
   "execution_count": 82,
   "metadata": {},
   "outputs": [
    {
     "name": "stdout",
     "output_type": "stream",
     "text": [
      "(1, 1)\n",
      "b =  -1.0 axby = 0.0\n",
      "------------------------------\n",
      "(2, 1)\n",
      "b =  -1.0 axby = 1.0\n",
      "below\n",
      "------------------------------\n",
      "(4, 2)\n",
      "b =  -1.0 axby = 2.0\n",
      "below\n",
      "------------------------------\n",
      "(2, 4)\n",
      "b =  -1.0 axby = -2.0\n",
      "above\n",
      "------------------------------\n",
      "(-1, 4)\n",
      "b =  -1.0 axby = -5.0\n",
      "above\n",
      "------------------------------\n"
     ]
    }
   ],
   "source": [
    "r = [(1,1),(2,1),(4,2),(2,4), (-1,4)]\n",
    "\n",
    "for point in r:\n",
    "    print(point)\n",
    "    x = point[0]\n",
    "    y = point[1]\n",
    "    axby = (a*x) + (b*y) + c\n",
    "    print(\"b = \",b, \"axby =\", axby)\n",
    "    check(b, axby)\n",
    "    print(\"------------------------------\")"
   ]
  },
  {
   "cell_type": "code",
   "execution_count": 83,
   "metadata": {},
   "outputs": [
    {
     "name": "stdout",
     "output_type": "stream",
     "text": [
      "(-2, -1)\n",
      "b =  -1.0 axby = -1.0\n",
      "above\n",
      "------------------------------\n",
      "(-1, -2)\n",
      "b =  -1.0 axby = 1.0\n",
      "below\n",
      "------------------------------\n",
      "(-3, -2)\n",
      "b =  -1.0 axby = -1.0\n",
      "above\n",
      "------------------------------\n",
      "(-3, -1)\n",
      "b =  -1.0 axby = -2.0\n",
      "above\n",
      "------------------------------\n",
      "(1, -3)\n",
      "b =  -1.0 axby = 4.0\n",
      "below\n",
      "------------------------------\n"
     ]
    }
   ],
   "source": [
    "bl = [(-2,-1),(-1,-2),(-3,-2),(-3,-1),(1,-3)]\n",
    "\n",
    "for point in bl:\n",
    "    print(point)\n",
    "    x = point[0]\n",
    "    y = point[1]\n",
    "    axby = (a*x) + (b*y) + c\n",
    "    print(\"b = \",b, \"axby =\", axby)\n",
    "    check(b, axby)\n",
    "    print(\"------------------------------\")"
   ]
  },
  {
   "cell_type": "code",
   "execution_count": 81,
   "metadata": {},
   "outputs": [],
   "source": [
    "def check(b, axby):\n",
    "    if axby == 0:\n",
    "        print(\"on\")\n",
    "    elif (b > 0):\n",
    "        if axby > 0:\n",
    "            print(\"above\")\n",
    "        else:\n",
    "            print(\"below\")\n",
    "    elif b < 0:\n",
    "        if axby < 0:\n",
    "            print('above')\n",
    "        else:\n",
    "            print('below')"
   ]
  },
  {
   "cell_type": "code",
   "execution_count": null,
   "metadata": {},
   "outputs": [],
   "source": []
  }
 ],
 "metadata": {
  "kernelspec": {
   "display_name": "Python 3",
   "language": "python",
   "name": "python3"
  },
  "language_info": {
   "codemirror_mode": {
    "name": "ipython",
    "version": 3
   },
   "file_extension": ".py",
   "mimetype": "text/x-python",
   "name": "python",
   "nbconvert_exporter": "python",
   "pygments_lexer": "ipython3",
   "version": "3.7.7"
  }
 },
 "nbformat": 4,
 "nbformat_minor": 4
}
