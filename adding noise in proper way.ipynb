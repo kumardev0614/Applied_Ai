{
 "cells": [
  {
   "cell_type": "code",
   "execution_count": 28,
   "metadata": {},
   "outputs": [],
   "source": [
    "import numpy as np"
   ]
  },
  {
   "cell_type": "code",
   "execution_count": 29,
   "metadata": {},
   "outputs": [
    {
     "data": {
      "text/plain": [
       "array([[1., 1., 1., 1., 1., 1., 1., 1., 1., 1.],\n",
       "       [1., 1., 1., 1., 1., 1., 1., 1., 1., 1.],\n",
       "       [1., 1., 1., 1., 1., 1., 1., 1., 1., 1.],\n",
       "       [1., 1., 1., 1., 1., 1., 1., 1., 1., 1.]])"
      ]
     },
     "execution_count": 29,
     "metadata": {},
     "output_type": "execute_result"
    }
   ],
   "source": [
    "X = np.ones((4, 10))\n",
    "X"
   ]
  },
  {
   "cell_type": "code",
   "execution_count": 30,
   "metadata": {},
   "outputs": [
    {
     "data": {
      "text/plain": [
       "2.718281828459045"
      ]
     },
     "execution_count": 30,
     "metadata": {},
     "output_type": "execute_result"
    }
   ],
   "source": [
    "np.e"
   ]
  },
  {
   "cell_type": "code",
   "execution_count": 31,
   "metadata": {},
   "outputs": [
    {
     "data": {
      "text/plain": [
       "2.718281828459045"
      ]
     },
     "execution_count": 31,
     "metadata": {},
     "output_type": "execute_result"
    }
   ],
   "source": [
    "e = np.e\n",
    "e"
   ]
  },
  {
   "cell_type": "code",
   "execution_count": 32,
   "metadata": {},
   "outputs": [
    {
     "data": {
      "text/plain": [
       "1.010050167084168"
      ]
     },
     "execution_count": 32,
     "metadata": {},
     "output_type": "execute_result"
    }
   ],
   "source": [
    "noise = e**(10**-2)\n",
    "noise"
   ]
  },
  {
   "cell_type": "code",
   "execution_count": 33,
   "metadata": {},
   "outputs": [
    {
     "data": {
      "text/plain": [
       "array([[2.01005017, 2.01005017, 2.01005017, 2.01005017, 2.01005017,\n",
       "        2.01005017, 2.01005017, 2.01005017, 2.01005017, 2.01005017],\n",
       "       [2.01005017, 2.01005017, 2.01005017, 2.01005017, 2.01005017,\n",
       "        2.01005017, 2.01005017, 2.01005017, 2.01005017, 2.01005017],\n",
       "       [2.01005017, 2.01005017, 2.01005017, 2.01005017, 2.01005017,\n",
       "        2.01005017, 2.01005017, 2.01005017, 2.01005017, 2.01005017],\n",
       "       [2.01005017, 2.01005017, 2.01005017, 2.01005017, 2.01005017,\n",
       "        2.01005017, 2.01005017, 2.01005017, 2.01005017, 2.01005017]])"
      ]
     },
     "execution_count": 33,
     "metadata": {},
     "output_type": "execute_result"
    }
   ],
   "source": [
    "X_noise = X + noise      # if we add noise in this way we can see our dataset values are just shifted/moved  \n",
    "X_noise                  # We cannot call it adding noise to the data"
   ]
  },
  {
   "cell_type": "code",
   "execution_count": 34,
   "metadata": {},
   "outputs": [
    {
     "data": {
      "text/plain": [
       "array([[3.71828183, 3.71828183, 3.71828183, 3.71828183, 3.71828183,\n",
       "        3.71828183, 3.71828183, 3.71828183, 3.71828183, 3.71828183],\n",
       "       [3.71828183, 3.71828183, 3.71828183, 3.71828183, 3.71828183,\n",
       "        3.71828183, 3.71828183, 3.71828183, 3.71828183, 3.71828183],\n",
       "       [3.71828183, 3.71828183, 3.71828183, 3.71828183, 3.71828183,\n",
       "        3.71828183, 3.71828183, 3.71828183, 3.71828183, 3.71828183],\n",
       "       [3.71828183, 3.71828183, 3.71828183, 3.71828183, 3.71828183,\n",
       "        3.71828183, 3.71828183, 3.71828183, 3.71828183, 3.71828183]])"
      ]
     },
     "execution_count": 34,
     "metadata": {},
     "output_type": "execute_result"
    }
   ],
   "source": [
    "# let's add e\n",
    "X_e = X + e\n",
    "X_e                # results are same dataset has shifted it's values."
   ]
  },
  {
   "cell_type": "code",
   "execution_count": 35,
   "metadata": {},
   "outputs": [],
   "source": [
    "# Now lets add random values which are in order of 10**-2"
   ]
  },
  {
   "cell_type": "code",
   "execution_count": 37,
   "metadata": {},
   "outputs": [
    {
     "data": {
      "text/plain": [
       "array([-0.00268009,  0.01054046, -0.0042287 ,  0.00600884,  0.00988915,\n",
       "       -0.00018266,  0.00025272, -0.00158404,  0.00177067, -0.01077059])"
      ]
     },
     "execution_count": 37,
     "metadata": {},
     "output_type": "execute_result"
    }
   ],
   "source": [
    "np.random.normal(0,0.01, 10)"
   ]
  },
  {
   "cell_type": "code",
   "execution_count": 42,
   "metadata": {},
   "outputs": [
    {
     "data": {
      "text/plain": [
       "array([[1., 1., 1., 1., 1., 1., 1., 1., 1., 1.],\n",
       "       [1., 1., 1., 1., 1., 1., 1., 1., 1., 1.],\n",
       "       [1., 1., 1., 1., 1., 1., 1., 1., 1., 1.],\n",
       "       [1., 1., 1., 1., 1., 1., 1., 1., 1., 1.]])"
      ]
     },
     "execution_count": 42,
     "metadata": {},
     "output_type": "execute_result"
    }
   ],
   "source": [
    "X_copy = X.copy()\n",
    "X_copy"
   ]
  },
  {
   "cell_type": "code",
   "execution_count": 43,
   "metadata": {},
   "outputs": [],
   "source": [
    "for i in range(len(X_copy)):                        # This is the code you need.\n",
    "    noise = np.random.normal(0.001,0.009, 10)\n",
    "    X_copy[i] = X_copy[i] + noise"
   ]
  },
  {
   "cell_type": "code",
   "execution_count": 44,
   "metadata": {},
   "outputs": [
    {
     "data": {
      "text/plain": [
       "array([[1.00569827, 1.00062592, 1.00406212, 0.98377934, 1.00167457,\n",
       "        0.9896984 , 1.01738307, 1.00579131, 1.01140237, 0.99526309],\n",
       "       [0.99922748, 1.01132879, 0.98760102, 1.00851685, 0.99191873,\n",
       "        0.99400841, 1.00722103, 1.0129473 , 1.01154215, 0.9940905 ],\n",
       "       [0.99192296, 0.99594398, 0.98373922, 0.9918373 , 1.00079294,\n",
       "        0.99739954, 1.00217847, 0.99876339, 1.01332153, 1.00142365],\n",
       "       [1.00071195, 0.99437364, 1.01099097, 1.01106418, 1.00715332,\n",
       "        1.00701949, 0.99582256, 0.99336936, 0.98599325, 1.00309524]])"
      ]
     },
     "execution_count": 44,
     "metadata": {},
     "output_type": "execute_result"
    }
   ],
   "source": [
    "X_copy"
   ]
  },
  {
   "cell_type": "code",
   "execution_count": 45,
   "metadata": {},
   "outputs": [
    {
     "data": {
      "text/plain": [
       "array([[1., 1., 1., 1., 1., 1., 1., 1., 1., 1.],\n",
       "       [1., 1., 1., 1., 1., 1., 1., 1., 1., 1.],\n",
       "       [1., 1., 1., 1., 1., 1., 1., 1., 1., 1.],\n",
       "       [1., 1., 1., 1., 1., 1., 1., 1., 1., 1.]])"
      ]
     },
     "execution_count": 45,
     "metadata": {},
     "output_type": "execute_result"
    }
   ],
   "source": [
    "X"
   ]
  },
  {
   "cell_type": "code",
   "execution_count": 46,
   "metadata": {},
   "outputs": [
    {
     "data": {
      "text/plain": [
       "array([[-0.00569827, -0.00062592, -0.00406212,  0.01622066, -0.00167457,\n",
       "         0.0103016 , -0.01738307, -0.00579131, -0.01140237,  0.00473691],\n",
       "       [ 0.00077252, -0.01132879,  0.01239898, -0.00851685,  0.00808127,\n",
       "         0.00599159, -0.00722103, -0.0129473 , -0.01154215,  0.0059095 ],\n",
       "       [ 0.00807704,  0.00405602,  0.01626078,  0.0081627 , -0.00079294,\n",
       "         0.00260046, -0.00217847,  0.00123661, -0.01332153, -0.00142365],\n",
       "       [-0.00071195,  0.00562636, -0.01099097, -0.01106418, -0.00715332,\n",
       "        -0.00701949,  0.00417744,  0.00663064,  0.01400675, -0.00309524]])"
      ]
     },
     "execution_count": 46,
     "metadata": {},
     "output_type": "execute_result"
    }
   ],
   "source": [
    "X - X_copy       # original X values are changed in order of 10**-2"
   ]
  },
  {
   "cell_type": "markdown",
   "metadata": {},
   "source": [
    "### let's See it visually"
   ]
  },
  {
   "cell_type": "code",
   "execution_count": 47,
   "metadata": {},
   "outputs": [],
   "source": [
    "import matplotlib.pyplot as plt"
   ]
  },
  {
   "cell_type": "code",
   "execution_count": 48,
   "metadata": {},
   "outputs": [
    {
     "data": {
      "text/plain": [
       "<matplotlib.legend.Legend at 0x1ca51798688>"
      ]
     },
     "execution_count": 48,
     "metadata": {},
     "output_type": "execute_result"
    },
    {
     "data": {
      "image/png": "[encoded data removed]",
      "text/plain": [
       "<Figure size 432x288 with 1 Axes>"
      ]
     },
     "metadata": {
      "needs_background": "light"
     },
     "output_type": "display_data"
    }
   ],
   "source": [
    "plt.plot(X[0], label='Original X')\n",
    "plt.legend()"
   ]
  },
  {
   "cell_type": "code",
   "execution_count": 49,
   "metadata": {},
   "outputs": [
    {
     "data": {
      "text/plain": [
       "<matplotlib.legend.Legend at 0x1ca51818ec8>"
      ]
     },
     "execution_count": 49,
     "metadata": {},
     "output_type": "execute_result"
    },
    {
     "data": {
      "image/png": "[encoded data removed]",
      "text/plain": [
       "<Figure size 432x288 with 1 Axes>"
      ]
     },
     "metadata": {
      "needs_background": "light"
     },
     "output_type": "display_data"
    }
   ],
   "source": [
    "plt.plot(X[0], label='X')\n",
    "plt.plot(X_noise[0], label='X + constant noise')\n",
    "plt.legend()"
   ]
  },
  {
   "cell_type": "code",
   "execution_count": 50,
   "metadata": {},
   "outputs": [
    {
     "data": {
      "text/plain": [
       "<matplotlib.legend.Legend at 0x1ca5188acc8>"
      ]
     },
     "execution_count": 50,
     "metadata": {},
     "output_type": "execute_result"
    },
    {
     "data": {
      "image/png": "[encoded data removed]",
      "text/plain": [
       "<Figure size 432x288 with 1 Axes>"
      ]
     },
     "metadata": {
      "needs_background": "light"
     },
     "output_type": "display_data"
    }
   ],
   "source": [
    "plt.plot(X[0], label='X')\n",
    "plt.plot(X_e[0], label='X + e')\n",
    "plt.legend()"
   ]
  },
  {
   "cell_type": "code",
   "execution_count": 51,
   "metadata": {},
   "outputs": [
    {
     "data": {
      "text/plain": [
       "<matplotlib.legend.Legend at 0x1ca518fbb88>"
      ]
     },
     "execution_count": 51,
     "metadata": {},
     "output_type": "execute_result"
    },
    {
     "data": {
      "image/png": "[encoded data removed]",
      "text/plain": [
       "<Figure size 432x288 with 1 Axes>"
      ]
     },
     "metadata": {
      "needs_background": "light"
     },
     "output_type": "display_data"
    }
   ],
   "source": [
    "plt.plot(X[0], label='X')\n",
    "plt.plot(X_copy[0], label='X + random noise')\n",
    "plt.legend()"
   ]
  },
  {
   "cell_type": "code",
   "execution_count": null,
   "metadata": {},
   "outputs": [],
   "source": []
  }
 ],
 "metadata": {
  "kernelspec": {
   "display_name": "Python 3",
   "language": "python",
   "name": "python3"
  },
  "language_info": {
   "codemirror_mode": {
    "name": "ipython",
    "version": 3
   },
   "file_extension": ".py",
   "mimetype": "text/x-python",
   "name": "python",
   "nbconvert_exporter": "python",
   "pygments_lexer": "ipython3",
   "version": "3.7.7"
  }
 },
 "nbformat": 4,
 "nbformat_minor": 4
}
