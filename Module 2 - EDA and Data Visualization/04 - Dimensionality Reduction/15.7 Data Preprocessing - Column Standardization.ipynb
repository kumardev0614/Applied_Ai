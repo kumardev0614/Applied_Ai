{
 "cells": [
  {
   "cell_type": "markdown",
   "metadata": {},
   "source": [
    "<pre>In column Normalization: We want to all our datapoints should lie between 0 to 1.\n",
    "\n",
    "In column Standardization: We want mean of each column should = 0\n",
    "                                    std of each column should = 1\n",
    "                                 \n",
    "Notice: Here we are not changing the distribution of each column. Our column values can have any distribution.\n",
    "We just want mean of column values = 0\n",
    "and std of column values = 1\n",
    "</pre>"
   ]
  },
  {
   "cell_type": "code",
   "execution_count": 1,
   "metadata": {},
   "outputs": [],
   "source": [
    "import pandas as pd\n",
    "import numpy as np\n",
    "import matplotlib.pyplot as plt\n",
    "import seaborn as sns"
   ]
  },
  {
   "cell_type": "code",
   "execution_count": 2,
   "metadata": {},
   "outputs": [
    {
     "data": {
      "text/html": [
       "<div>\n",
       "<style scoped>\n",
       "    .dataframe tbody tr th:only-of-type {\n",
       "        vertical-align: middle;\n",
       "    }\n",
       "\n",
       "    .dataframe tbody tr th {\n",
       "        vertical-align: top;\n",
       "    }\n",
       "\n",
       "    .dataframe thead th {\n",
       "        text-align: right;\n",
       "    }\n",
       "</style>\n",
       "<table border=\"1\" class=\"dataframe\">\n",
       "  <thead>\n",
       "    <tr style=\"text-align: right;\">\n",
       "      <th></th>\n",
       "      <th>sl</th>\n",
       "      <th>sw</th>\n",
       "      <th>pl</th>\n",
       "      <th>pw</th>\n",
       "      <th>species</th>\n",
       "    </tr>\n",
       "  </thead>\n",
       "  <tbody>\n",
       "    <tr>\n",
       "      <th>0</th>\n",
       "      <td>5.1</td>\n",
       "      <td>3.5</td>\n",
       "      <td>1.4</td>\n",
       "      <td>0.2</td>\n",
       "      <td>setosa</td>\n",
       "    </tr>\n",
       "    <tr>\n",
       "      <th>1</th>\n",
       "      <td>4.9</td>\n",
       "      <td>3.0</td>\n",
       "      <td>1.4</td>\n",
       "      <td>0.2</td>\n",
       "      <td>setosa</td>\n",
       "    </tr>\n",
       "    <tr>\n",
       "      <th>2</th>\n",
       "      <td>4.7</td>\n",
       "      <td>3.2</td>\n",
       "      <td>1.3</td>\n",
       "      <td>0.2</td>\n",
       "      <td>setosa</td>\n",
       "    </tr>\n",
       "    <tr>\n",
       "      <th>3</th>\n",
       "      <td>4.6</td>\n",
       "      <td>3.1</td>\n",
       "      <td>1.5</td>\n",
       "      <td>0.2</td>\n",
       "      <td>setosa</td>\n",
       "    </tr>\n",
       "    <tr>\n",
       "      <th>4</th>\n",
       "      <td>5.0</td>\n",
       "      <td>3.6</td>\n",
       "      <td>1.4</td>\n",
       "      <td>0.2</td>\n",
       "      <td>setosa</td>\n",
       "    </tr>\n",
       "    <tr>\n",
       "      <th>5</th>\n",
       "      <td>5.4</td>\n",
       "      <td>3.9</td>\n",
       "      <td>1.7</td>\n",
       "      <td>0.4</td>\n",
       "      <td>setosa</td>\n",
       "    </tr>\n",
       "    <tr>\n",
       "      <th>6</th>\n",
       "      <td>4.6</td>\n",
       "      <td>3.4</td>\n",
       "      <td>1.4</td>\n",
       "      <td>0.3</td>\n",
       "      <td>setosa</td>\n",
       "    </tr>\n",
       "    <tr>\n",
       "      <th>7</th>\n",
       "      <td>5.0</td>\n",
       "      <td>3.4</td>\n",
       "      <td>1.5</td>\n",
       "      <td>0.2</td>\n",
       "      <td>setosa</td>\n",
       "    </tr>\n",
       "    <tr>\n",
       "      <th>8</th>\n",
       "      <td>4.4</td>\n",
       "      <td>2.9</td>\n",
       "      <td>1.4</td>\n",
       "      <td>0.2</td>\n",
       "      <td>setosa</td>\n",
       "    </tr>\n",
       "    <tr>\n",
       "      <th>9</th>\n",
       "      <td>4.9</td>\n",
       "      <td>3.1</td>\n",
       "      <td>1.5</td>\n",
       "      <td>0.1</td>\n",
       "      <td>setosa</td>\n",
       "    </tr>\n",
       "    <tr>\n",
       "      <th>10</th>\n",
       "      <td>5.4</td>\n",
       "      <td>3.7</td>\n",
       "      <td>1.5</td>\n",
       "      <td>0.2</td>\n",
       "      <td>setosa</td>\n",
       "    </tr>\n",
       "    <tr>\n",
       "      <th>11</th>\n",
       "      <td>4.8</td>\n",
       "      <td>3.4</td>\n",
       "      <td>1.6</td>\n",
       "      <td>0.2</td>\n",
       "      <td>setosa</td>\n",
       "    </tr>\n",
       "    <tr>\n",
       "      <th>12</th>\n",
       "      <td>4.8</td>\n",
       "      <td>3.0</td>\n",
       "      <td>1.4</td>\n",
       "      <td>0.1</td>\n",
       "      <td>setosa</td>\n",
       "    </tr>\n",
       "    <tr>\n",
       "      <th>13</th>\n",
       "      <td>4.3</td>\n",
       "      <td>3.0</td>\n",
       "      <td>1.1</td>\n",
       "      <td>0.1</td>\n",
       "      <td>setosa</td>\n",
       "    </tr>\n",
       "    <tr>\n",
       "      <th>14</th>\n",
       "      <td>5.8</td>\n",
       "      <td>4.0</td>\n",
       "      <td>1.2</td>\n",
       "      <td>0.2</td>\n",
       "      <td>setosa</td>\n",
       "    </tr>\n",
       "    <tr>\n",
       "      <th>15</th>\n",
       "      <td>5.7</td>\n",
       "      <td>4.4</td>\n",
       "      <td>1.5</td>\n",
       "      <td>0.4</td>\n",
       "      <td>setosa</td>\n",
       "    </tr>\n",
       "    <tr>\n",
       "      <th>16</th>\n",
       "      <td>5.4</td>\n",
       "      <td>3.9</td>\n",
       "      <td>1.3</td>\n",
       "      <td>0.4</td>\n",
       "      <td>setosa</td>\n",
       "    </tr>\n",
       "    <tr>\n",
       "      <th>17</th>\n",
       "      <td>5.1</td>\n",
       "      <td>3.5</td>\n",
       "      <td>1.4</td>\n",
       "      <td>0.3</td>\n",
       "      <td>setosa</td>\n",
       "    </tr>\n",
       "    <tr>\n",
       "      <th>18</th>\n",
       "      <td>5.7</td>\n",
       "      <td>3.8</td>\n",
       "      <td>1.7</td>\n",
       "      <td>0.3</td>\n",
       "      <td>setosa</td>\n",
       "    </tr>\n",
       "  </tbody>\n",
       "</table>\n",
       "</div>"
      ],
      "text/plain": [
       "     sl   sw   pl   pw species\n",
       "0   5.1  3.5  1.4  0.2  setosa\n",
       "1   4.9  3.0  1.4  0.2  setosa\n",
       "2   4.7  3.2  1.3  0.2  setosa\n",
       "3   4.6  3.1  1.5  0.2  setosa\n",
       "4   5.0  3.6  1.4  0.2  setosa\n",
       "5   5.4  3.9  1.7  0.4  setosa\n",
       "6   4.6  3.4  1.4  0.3  setosa\n",
       "7   5.0  3.4  1.5  0.2  setosa\n",
       "8   4.4  2.9  1.4  0.2  setosa\n",
       "9   4.9  3.1  1.5  0.1  setosa\n",
       "10  5.4  3.7  1.5  0.2  setosa\n",
       "11  4.8  3.4  1.6  0.2  setosa\n",
       "12  4.8  3.0  1.4  0.1  setosa\n",
       "13  4.3  3.0  1.1  0.1  setosa\n",
       "14  5.8  4.0  1.2  0.2  setosa\n",
       "15  5.7  4.4  1.5  0.4  setosa\n",
       "16  5.4  3.9  1.3  0.4  setosa\n",
       "17  5.1  3.5  1.4  0.3  setosa\n",
       "18  5.7  3.8  1.7  0.3  setosa"
      ]
     },
     "execution_count": 2,
     "metadata": {},
     "output_type": "execute_result"
    }
   ],
   "source": [
    "data = pd.read_excel('sample_matrix.xlsx')\n",
    "data"
   ]
  },
  {
   "cell_type": "markdown",
   "metadata": {},
   "source": [
    "<pre>OK so following the notation. We have a dataset with 5 features. We have total 19 datapoints.\n",
    "d = 5\n",
    "n = 19\n",
    "f1  = sl\n",
    "f2 = sw\n",
    "f3 = pl\n",
    "f4 = pw\n",
    "f5 = species\n",
    "\n",
    "we have 19 x 5 matrix.\n",
    "</pre>"
   ]
  },
  {
   "cell_type": "code",
   "execution_count": 3,
   "metadata": {},
   "outputs": [
    {
     "data": {
      "text/plain": [
       "0     5.1\n",
       "1     4.9\n",
       "2     4.7\n",
       "3     4.6\n",
       "4     5.0\n",
       "5     5.4\n",
       "6     4.6\n",
       "7     5.0\n",
       "8     4.4\n",
       "9     4.9\n",
       "10    5.4\n",
       "11    4.8\n",
       "12    4.8\n",
       "13    4.3\n",
       "14    5.8\n",
       "15    5.7\n",
       "16    5.4\n",
       "17    5.1\n",
       "18    5.7\n",
       "Name: sl, dtype: float64"
      ]
     },
     "execution_count": 3,
     "metadata": {},
     "output_type": "execute_result"
    }
   ],
   "source": [
    "col1 = data['sl']\n",
    "col1"
   ]
  },
  {
   "cell_type": "code",
   "execution_count": 4,
   "metadata": {},
   "outputs": [
    {
     "data": {
      "text/plain": [
       "5.031578947368421"
      ]
     },
     "execution_count": 4,
     "metadata": {},
     "output_type": "execute_result"
    }
   ],
   "source": [
    "col1.mean()"
   ]
  },
  {
   "cell_type": "code",
   "execution_count": 5,
   "metadata": {},
   "outputs": [
    {
     "data": {
      "text/plain": [
       "0.4384982346080609"
      ]
     },
     "execution_count": 5,
     "metadata": {},
     "output_type": "execute_result"
    }
   ],
   "source": [
    "col1.std()"
   ]
  },
  {
   "cell_type": "code",
   "execution_count": 6,
   "metadata": {},
   "outputs": [],
   "source": [
    "# For column standardization we need mean() and std() of each column.\n",
    "\n",
    "def col_standard(column):\n",
    "    c_mean = column.mean()\n",
    "    c_std = column.std()\n",
    "    col_s = []\n",
    "    \n",
    "    for value in column:\n",
    "        col_s.append( ((value - c_mean) / c_std) )   # formula for normalization\n",
    "    \n",
    "    return col_s"
   ]
  },
  {
   "cell_type": "code",
   "execution_count": 7,
   "metadata": {},
   "outputs": [
    {
     "data": {
      "text/plain": [
       "[0.15603495574556905,\n",
       " -0.30006722258763124,\n",
       " -0.7561694009208335,\n",
       " -0.9842204900874356,\n",
       " -0.07201613342103108,\n",
       " 0.8401882232453735,\n",
       " -0.9842204900874356,\n",
       " -0.07201613342103108,\n",
       " -1.4403226684206358,\n",
       " -0.30006722258763124,\n",
       " 0.8401882232453735,\n",
       " -0.5281183117542334,\n",
       " -0.5281183117542334,\n",
       " -1.6683737575872382,\n",
       " 1.752392579911776,\n",
       " 1.524341490745176,\n",
       " 0.8401882232453735,\n",
       " 0.15603495574556905,\n",
       " 1.524341490745176]"
      ]
     },
     "execution_count": 7,
     "metadata": {},
     "output_type": "execute_result"
    }
   ],
   "source": [
    "col_standard(col1)"
   ]
  },
  {
   "cell_type": "code",
   "execution_count": 8,
   "metadata": {},
   "outputs": [
    {
     "data": {
      "text/html": [
       "<div>\n",
       "<style scoped>\n",
       "    .dataframe tbody tr th:only-of-type {\n",
       "        vertical-align: middle;\n",
       "    }\n",
       "\n",
       "    .dataframe tbody tr th {\n",
       "        vertical-align: top;\n",
       "    }\n",
       "\n",
       "    .dataframe thead th {\n",
       "        text-align: right;\n",
       "    }\n",
       "</style>\n",
       "<table border=\"1\" class=\"dataframe\">\n",
       "  <thead>\n",
       "    <tr style=\"text-align: right;\">\n",
       "      <th></th>\n",
       "      <th>sl_dash</th>\n",
       "      <th>sw_dash</th>\n",
       "      <th>pl_dash</th>\n",
       "      <th>pw_dash</th>\n",
       "      <th>spe</th>\n",
       "    </tr>\n",
       "  </thead>\n",
       "  <tbody>\n",
       "    <tr>\n",
       "      <th>0</th>\n",
       "      <td>0.156035</td>\n",
       "      <td>0.089587</td>\n",
       "      <td>-0.211560</td>\n",
       "      <td>-0.333849</td>\n",
       "      <td>setosa</td>\n",
       "    </tr>\n",
       "    <tr>\n",
       "      <th>1</th>\n",
       "      <td>-0.300067</td>\n",
       "      <td>-1.126232</td>\n",
       "      <td>-0.211560</td>\n",
       "      <td>-0.333849</td>\n",
       "      <td>setosa</td>\n",
       "    </tr>\n",
       "    <tr>\n",
       "      <th>2</th>\n",
       "      <td>-0.756169</td>\n",
       "      <td>-0.639905</td>\n",
       "      <td>-0.881499</td>\n",
       "      <td>-0.333849</td>\n",
       "      <td>setosa</td>\n",
       "    </tr>\n",
       "    <tr>\n",
       "      <th>3</th>\n",
       "      <td>-0.984220</td>\n",
       "      <td>-0.883069</td>\n",
       "      <td>0.458380</td>\n",
       "      <td>-0.333849</td>\n",
       "      <td>setosa</td>\n",
       "    </tr>\n",
       "    <tr>\n",
       "      <th>4</th>\n",
       "      <td>-0.072016</td>\n",
       "      <td>0.332750</td>\n",
       "      <td>-0.211560</td>\n",
       "      <td>-0.333849</td>\n",
       "      <td>setosa</td>\n",
       "    </tr>\n",
       "    <tr>\n",
       "      <th>5</th>\n",
       "      <td>0.840188</td>\n",
       "      <td>1.062242</td>\n",
       "      <td>1.798259</td>\n",
       "      <td>1.780528</td>\n",
       "      <td>setosa</td>\n",
       "    </tr>\n",
       "    <tr>\n",
       "      <th>6</th>\n",
       "      <td>-0.984220</td>\n",
       "      <td>-0.153577</td>\n",
       "      <td>-0.211560</td>\n",
       "      <td>0.723339</td>\n",
       "      <td>setosa</td>\n",
       "    </tr>\n",
       "    <tr>\n",
       "      <th>7</th>\n",
       "      <td>-0.072016</td>\n",
       "      <td>-0.153577</td>\n",
       "      <td>0.458380</td>\n",
       "      <td>-0.333849</td>\n",
       "      <td>setosa</td>\n",
       "    </tr>\n",
       "    <tr>\n",
       "      <th>8</th>\n",
       "      <td>-1.440323</td>\n",
       "      <td>-1.369396</td>\n",
       "      <td>-0.211560</td>\n",
       "      <td>-0.333849</td>\n",
       "      <td>setosa</td>\n",
       "    </tr>\n",
       "    <tr>\n",
       "      <th>9</th>\n",
       "      <td>-0.300067</td>\n",
       "      <td>-0.883069</td>\n",
       "      <td>0.458380</td>\n",
       "      <td>-1.391037</td>\n",
       "      <td>setosa</td>\n",
       "    </tr>\n",
       "    <tr>\n",
       "      <th>10</th>\n",
       "      <td>0.840188</td>\n",
       "      <td>0.575914</td>\n",
       "      <td>0.458380</td>\n",
       "      <td>-0.333849</td>\n",
       "      <td>setosa</td>\n",
       "    </tr>\n",
       "    <tr>\n",
       "      <th>11</th>\n",
       "      <td>-0.528118</td>\n",
       "      <td>-0.153577</td>\n",
       "      <td>1.128319</td>\n",
       "      <td>-0.333849</td>\n",
       "      <td>setosa</td>\n",
       "    </tr>\n",
       "    <tr>\n",
       "      <th>12</th>\n",
       "      <td>-0.528118</td>\n",
       "      <td>-1.126232</td>\n",
       "      <td>-0.211560</td>\n",
       "      <td>-1.391037</td>\n",
       "      <td>setosa</td>\n",
       "    </tr>\n",
       "    <tr>\n",
       "      <th>13</th>\n",
       "      <td>-1.668374</td>\n",
       "      <td>-1.126232</td>\n",
       "      <td>-2.221378</td>\n",
       "      <td>-1.391037</td>\n",
       "      <td>setosa</td>\n",
       "    </tr>\n",
       "    <tr>\n",
       "      <th>14</th>\n",
       "      <td>1.752393</td>\n",
       "      <td>1.305406</td>\n",
       "      <td>-1.551439</td>\n",
       "      <td>-0.333849</td>\n",
       "      <td>setosa</td>\n",
       "    </tr>\n",
       "    <tr>\n",
       "      <th>15</th>\n",
       "      <td>1.524341</td>\n",
       "      <td>2.278061</td>\n",
       "      <td>0.458380</td>\n",
       "      <td>1.780528</td>\n",
       "      <td>setosa</td>\n",
       "    </tr>\n",
       "    <tr>\n",
       "      <th>16</th>\n",
       "      <td>0.840188</td>\n",
       "      <td>1.062242</td>\n",
       "      <td>-0.881499</td>\n",
       "      <td>1.780528</td>\n",
       "      <td>setosa</td>\n",
       "    </tr>\n",
       "    <tr>\n",
       "      <th>17</th>\n",
       "      <td>0.156035</td>\n",
       "      <td>0.089587</td>\n",
       "      <td>-0.211560</td>\n",
       "      <td>0.723339</td>\n",
       "      <td>setosa</td>\n",
       "    </tr>\n",
       "    <tr>\n",
       "      <th>18</th>\n",
       "      <td>1.524341</td>\n",
       "      <td>0.819078</td>\n",
       "      <td>1.798259</td>\n",
       "      <td>0.723339</td>\n",
       "      <td>setosa</td>\n",
       "    </tr>\n",
       "  </tbody>\n",
       "</table>\n",
       "</div>"
      ],
      "text/plain": [
       "     sl_dash   sw_dash   pl_dash   pw_dash     spe\n",
       "0   0.156035  0.089587 -0.211560 -0.333849  setosa\n",
       "1  -0.300067 -1.126232 -0.211560 -0.333849  setosa\n",
       "2  -0.756169 -0.639905 -0.881499 -0.333849  setosa\n",
       "3  -0.984220 -0.883069  0.458380 -0.333849  setosa\n",
       "4  -0.072016  0.332750 -0.211560 -0.333849  setosa\n",
       "5   0.840188  1.062242  1.798259  1.780528  setosa\n",
       "6  -0.984220 -0.153577 -0.211560  0.723339  setosa\n",
       "7  -0.072016 -0.153577  0.458380 -0.333849  setosa\n",
       "8  -1.440323 -1.369396 -0.211560 -0.333849  setosa\n",
       "9  -0.300067 -0.883069  0.458380 -1.391037  setosa\n",
       "10  0.840188  0.575914  0.458380 -0.333849  setosa\n",
       "11 -0.528118 -0.153577  1.128319 -0.333849  setosa\n",
       "12 -0.528118 -1.126232 -0.211560 -1.391037  setosa\n",
       "13 -1.668374 -1.126232 -2.221378 -1.391037  setosa\n",
       "14  1.752393  1.305406 -1.551439 -0.333849  setosa\n",
       "15  1.524341  2.278061  0.458380  1.780528  setosa\n",
       "16  0.840188  1.062242 -0.881499  1.780528  setosa\n",
       "17  0.156035  0.089587 -0.211560  0.723339  setosa\n",
       "18  1.524341  0.819078  1.798259  0.723339  setosa"
      ]
     },
     "execution_count": 8,
     "metadata": {},
     "output_type": "execute_result"
    }
   ],
   "source": [
    "standard_matrix = pd.DataFrame(list(zip( col_standard(data['sl']), \n",
    "                                         col_standard(data['sw']), \n",
    "                                         col_standard(data['pl']), \n",
    "                                         col_standard(data['pw']),\n",
    "                                         data['species'] )), \n",
    "                            columns =['sl_dash', \"sw_dash\", \"pl_dash\", \"pw_dash\", \"spe\"])\n",
    "standard_matrix"
   ]
  },
  {
   "cell_type": "code",
   "execution_count": 9,
   "metadata": {},
   "outputs": [],
   "source": [
    "# df = pd.DataFrame(list(zip(lst, lst2)), \n",
    "#              columns =['Name', 'val'])"
   ]
  },
  {
   "cell_type": "code",
   "execution_count": 10,
   "metadata": {},
   "outputs": [
    {
     "data": {
      "text/plain": [
       "<matplotlib.legend.Legend at 0x20b51add988>"
      ]
     },
     "execution_count": 10,
     "metadata": {},
     "output_type": "execute_result"
    },
    {
     "data": {
      "image/png": "[encoded data removed]",
      "text/plain": [
       "<Figure size 432x288 with 1 Axes>"
      ]
     },
     "metadata": {
      "needs_background": "light"
     },
     "output_type": "display_data"
    }
   ],
   "source": [
    "# original Data\n",
    "sns.distplot( data[\"sl\"] , label=\"sl\")\n",
    "sns.distplot( data[\"sw\"] , label=\"sw\")\n",
    "sns.distplot( data[\"pl\"] , label=\"pl\")\n",
    "sns.distplot( data[\"pw\"] , label=\"pw\")\n",
    "plt.legend()"
   ]
  },
  {
   "cell_type": "code",
   "execution_count": 11,
   "metadata": {},
   "outputs": [
    {
     "data": {
      "text/plain": [
       "<matplotlib.legend.Legend at 0x20b51bc5148>"
      ]
     },
     "execution_count": 11,
     "metadata": {},
     "output_type": "execute_result"
    },
    {
     "data": {
      "image/png": "[encoded data removed]",
      "text/plain": [
       "<Figure size 432x288 with 1 Axes>"
      ]
     },
     "metadata": {
      "needs_background": "light"
     },
     "output_type": "display_data"
    }
   ],
   "source": [
    "# column standardized Data\n",
    "sns.distplot( standard_matrix[\"sl_dash\"] , label=\"sl_dash\")\n",
    "sns.distplot( standard_matrix[\"sw_dash\"] , label=\"sw_dash\")\n",
    "sns.distplot( standard_matrix[\"pl_dash\"] , label=\"pl_dash\")\n",
    "sns.distplot( standard_matrix[\"pw_dash\"] , label=\"pw_dash\")\n",
    "plt.legend()"
   ]
  },
  {
   "cell_type": "code",
   "execution_count": 13,
   "metadata": {},
   "outputs": [
    {
     "name": "stdout",
     "output_type": "stream",
     "text": [
      "8.531187452382782e-16\n",
      "1.0\n"
     ]
    }
   ],
   "source": [
    "print(standard_matrix[\"sl_dash\"].mean())\n",
    "print(standard_matrix[\"sl_dash\"].std())"
   ]
  },
  {
   "cell_type": "code",
   "execution_count": 14,
   "metadata": {},
   "outputs": [
    {
     "name": "stdout",
     "output_type": "stream",
     "text": [
      "8.414321870843291e-16\n",
      "1.0\n"
     ]
    }
   ],
   "source": [
    "print(standard_matrix[\"sw_dash\"].mean())\n",
    "print(standard_matrix[\"sw_dash\"].std())"
   ]
  },
  {
   "cell_type": "code",
   "execution_count": 15,
   "metadata": {},
   "outputs": [
    {
     "name": "stdout",
     "output_type": "stream",
     "text": [
      "-1.8698493046318425e-16\n",
      "1.0000000000000002\n"
     ]
    }
   ],
   "source": [
    "print(standard_matrix[\"pw_dash\"].mean())\n",
    "print(standard_matrix[\"pw_dash\"].std())"
   ]
  },
  {
   "cell_type": "code",
   "execution_count": 16,
   "metadata": {},
   "outputs": [
    {
     "name": "stdout",
     "output_type": "stream",
     "text": [
      "-2.5710427938687837e-16\n",
      "1.0\n"
     ]
    }
   ],
   "source": [
    "print(standard_matrix[\"pl_dash\"].mean())\n",
    "print(standard_matrix[\"pl_dash\"].std())"
   ]
  },
  {
   "cell_type": "code",
   "execution_count": null,
   "metadata": {},
   "outputs": [],
   "source": []
  }
 ],
 "metadata": {
  "kernelspec": {
   "display_name": "Python 3",
   "language": "python",
   "name": "python3"
  },
  "language_info": {
   "codemirror_mode": {
    "name": "ipython",
    "version": 3
   },
   "file_extension": ".py",
   "mimetype": "text/x-python",
   "name": "python",
   "nbconvert_exporter": "python",
   "pygments_lexer": "ipython3",
   "version": "3.7.7"
  }
 },
 "nbformat": 4,
 "nbformat_minor": 4
}
