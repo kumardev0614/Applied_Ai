{
 "cells": [
  {
   "cell_type": "markdown",
   "metadata": {},
   "source": [
    "<pre>Co-variance of a Data Matrix\n",
    "It is a dxd matrix.\n",
    "if X is a nxd matrix.\n",
    "n = number of rows\n",
    "d = number of columns/features.\n",
    "\n",
    "         f1 f2 f3 ..... fi.... fd\n",
    "      x1[                       ]\n",
    "      x2[                       ]\n",
    "X =   x3[                       ]\n",
    "      x4[                       ]\n",
    "       .\n",
    "       .\n",
    "       .\n",
    "      xn[                       ](nxd)\n",
    "      \n",
    "If X is column stantardised. Means for every column in X, mean(column) = 0, std(column) = 1\n",
    "\n",
    "Then Co - variance matrix of X will be\n",
    "\n",
    "S = (X.Transpose . X) / n     dot prod of X trancpose and X, divided by n\n",
    "</pre>"
   ]
  },
  {
   "cell_type": "code",
   "execution_count": 1,
   "metadata": {},
   "outputs": [],
   "source": [
    "import pandas as pd\n",
    "import numpy as np\n",
    "import matplotlib.pyplot as plt\n",
    "import seaborn as sns"
   ]
  },
  {
   "cell_type": "code",
   "execution_count": 2,
   "metadata": {},
   "outputs": [
    {
     "data": {
      "text/html": [
       "<div>\n",
       "<style scoped>\n",
       "    .dataframe tbody tr th:only-of-type {\n",
       "        vertical-align: middle;\n",
       "    }\n",
       "\n",
       "    .dataframe tbody tr th {\n",
       "        vertical-align: top;\n",
       "    }\n",
       "\n",
       "    .dataframe thead th {\n",
       "        text-align: right;\n",
       "    }\n",
       "</style>\n",
       "<table border=\"1\" class=\"dataframe\">\n",
       "  <thead>\n",
       "    <tr style=\"text-align: right;\">\n",
       "      <th></th>\n",
       "      <th>sl</th>\n",
       "      <th>sw</th>\n",
       "      <th>pl</th>\n",
       "      <th>pw</th>\n",
       "      <th>species</th>\n",
       "    </tr>\n",
       "  </thead>\n",
       "  <tbody>\n",
       "    <tr>\n",
       "      <th>0</th>\n",
       "      <td>5.1</td>\n",
       "      <td>3.5</td>\n",
       "      <td>1.4</td>\n",
       "      <td>0.2</td>\n",
       "      <td>setosa</td>\n",
       "    </tr>\n",
       "    <tr>\n",
       "      <th>1</th>\n",
       "      <td>4.9</td>\n",
       "      <td>3.0</td>\n",
       "      <td>1.4</td>\n",
       "      <td>0.2</td>\n",
       "      <td>setosa</td>\n",
       "    </tr>\n",
       "    <tr>\n",
       "      <th>2</th>\n",
       "      <td>4.7</td>\n",
       "      <td>3.2</td>\n",
       "      <td>1.3</td>\n",
       "      <td>0.2</td>\n",
       "      <td>setosa</td>\n",
       "    </tr>\n",
       "    <tr>\n",
       "      <th>3</th>\n",
       "      <td>4.6</td>\n",
       "      <td>3.1</td>\n",
       "      <td>1.5</td>\n",
       "      <td>0.2</td>\n",
       "      <td>setosa</td>\n",
       "    </tr>\n",
       "    <tr>\n",
       "      <th>4</th>\n",
       "      <td>5.0</td>\n",
       "      <td>3.6</td>\n",
       "      <td>1.4</td>\n",
       "      <td>0.2</td>\n",
       "      <td>setosa</td>\n",
       "    </tr>\n",
       "    <tr>\n",
       "      <th>5</th>\n",
       "      <td>5.4</td>\n",
       "      <td>3.9</td>\n",
       "      <td>1.7</td>\n",
       "      <td>0.4</td>\n",
       "      <td>setosa</td>\n",
       "    </tr>\n",
       "    <tr>\n",
       "      <th>6</th>\n",
       "      <td>4.6</td>\n",
       "      <td>3.4</td>\n",
       "      <td>1.4</td>\n",
       "      <td>0.3</td>\n",
       "      <td>setosa</td>\n",
       "    </tr>\n",
       "    <tr>\n",
       "      <th>7</th>\n",
       "      <td>5.0</td>\n",
       "      <td>3.4</td>\n",
       "      <td>1.5</td>\n",
       "      <td>0.2</td>\n",
       "      <td>setosa</td>\n",
       "    </tr>\n",
       "    <tr>\n",
       "      <th>8</th>\n",
       "      <td>4.4</td>\n",
       "      <td>2.9</td>\n",
       "      <td>1.4</td>\n",
       "      <td>0.2</td>\n",
       "      <td>setosa</td>\n",
       "    </tr>\n",
       "    <tr>\n",
       "      <th>9</th>\n",
       "      <td>4.9</td>\n",
       "      <td>3.1</td>\n",
       "      <td>1.5</td>\n",
       "      <td>0.1</td>\n",
       "      <td>setosa</td>\n",
       "    </tr>\n",
       "    <tr>\n",
       "      <th>10</th>\n",
       "      <td>5.4</td>\n",
       "      <td>3.7</td>\n",
       "      <td>1.5</td>\n",
       "      <td>0.2</td>\n",
       "      <td>setosa</td>\n",
       "    </tr>\n",
       "    <tr>\n",
       "      <th>11</th>\n",
       "      <td>4.8</td>\n",
       "      <td>3.4</td>\n",
       "      <td>1.6</td>\n",
       "      <td>0.2</td>\n",
       "      <td>setosa</td>\n",
       "    </tr>\n",
       "    <tr>\n",
       "      <th>12</th>\n",
       "      <td>4.8</td>\n",
       "      <td>3.0</td>\n",
       "      <td>1.4</td>\n",
       "      <td>0.1</td>\n",
       "      <td>setosa</td>\n",
       "    </tr>\n",
       "    <tr>\n",
       "      <th>13</th>\n",
       "      <td>4.3</td>\n",
       "      <td>3.0</td>\n",
       "      <td>1.1</td>\n",
       "      <td>0.1</td>\n",
       "      <td>setosa</td>\n",
       "    </tr>\n",
       "    <tr>\n",
       "      <th>14</th>\n",
       "      <td>5.8</td>\n",
       "      <td>4.0</td>\n",
       "      <td>1.2</td>\n",
       "      <td>0.2</td>\n",
       "      <td>setosa</td>\n",
       "    </tr>\n",
       "    <tr>\n",
       "      <th>15</th>\n",
       "      <td>5.7</td>\n",
       "      <td>4.4</td>\n",
       "      <td>1.5</td>\n",
       "      <td>0.4</td>\n",
       "      <td>setosa</td>\n",
       "    </tr>\n",
       "    <tr>\n",
       "      <th>16</th>\n",
       "      <td>5.4</td>\n",
       "      <td>3.9</td>\n",
       "      <td>1.3</td>\n",
       "      <td>0.4</td>\n",
       "      <td>setosa</td>\n",
       "    </tr>\n",
       "    <tr>\n",
       "      <th>17</th>\n",
       "      <td>5.1</td>\n",
       "      <td>3.5</td>\n",
       "      <td>1.4</td>\n",
       "      <td>0.3</td>\n",
       "      <td>setosa</td>\n",
       "    </tr>\n",
       "    <tr>\n",
       "      <th>18</th>\n",
       "      <td>5.7</td>\n",
       "      <td>3.8</td>\n",
       "      <td>1.7</td>\n",
       "      <td>0.3</td>\n",
       "      <td>setosa</td>\n",
       "    </tr>\n",
       "  </tbody>\n",
       "</table>\n",
       "</div>"
      ],
      "text/plain": [
       "     sl   sw   pl   pw species\n",
       "0   5.1  3.5  1.4  0.2  setosa\n",
       "1   4.9  3.0  1.4  0.2  setosa\n",
       "2   4.7  3.2  1.3  0.2  setosa\n",
       "3   4.6  3.1  1.5  0.2  setosa\n",
       "4   5.0  3.6  1.4  0.2  setosa\n",
       "5   5.4  3.9  1.7  0.4  setosa\n",
       "6   4.6  3.4  1.4  0.3  setosa\n",
       "7   5.0  3.4  1.5  0.2  setosa\n",
       "8   4.4  2.9  1.4  0.2  setosa\n",
       "9   4.9  3.1  1.5  0.1  setosa\n",
       "10  5.4  3.7  1.5  0.2  setosa\n",
       "11  4.8  3.4  1.6  0.2  setosa\n",
       "12  4.8  3.0  1.4  0.1  setosa\n",
       "13  4.3  3.0  1.1  0.1  setosa\n",
       "14  5.8  4.0  1.2  0.2  setosa\n",
       "15  5.7  4.4  1.5  0.4  setosa\n",
       "16  5.4  3.9  1.3  0.4  setosa\n",
       "17  5.1  3.5  1.4  0.3  setosa\n",
       "18  5.7  3.8  1.7  0.3  setosa"
      ]
     },
     "execution_count": 2,
     "metadata": {},
     "output_type": "execute_result"
    }
   ],
   "source": [
    "data = pd.read_excel('sample_matrix.xlsx')\n",
    "data"
   ]
  },
  {
   "cell_type": "markdown",
   "metadata": {},
   "source": [
    "<pre>OK so following the notation. We have a dataset with 5 features. We have total 19 datapoints.\n",
    "d = 5\n",
    "n = 19\n",
    "f1  = sl\n",
    "f2 = sw\n",
    "f3 = pl\n",
    "f4 = pw\n",
    "f5 = species\n",
    "\n",
    "we have 19 x 5 matrix.\n",
    "</pre>"
   ]
  },
  {
   "cell_type": "code",
   "execution_count": 4,
   "metadata": {},
   "outputs": [],
   "source": [
    "# Function to perform column standardization\n",
    "# For column standardization we need mean() and std() of each column.\n",
    "\n",
    "def col_standard(column):\n",
    "    c_mean = column.mean()\n",
    "    c_std = column.std()\n",
    "    col_s = []\n",
    "    \n",
    "    for value in column:\n",
    "        col_s.append( ((value - c_mean) / c_std) )   # formula for column standardization\n",
    "    \n",
    "    return col_s"
   ]
  },
  {
   "cell_type": "code",
   "execution_count": 6,
   "metadata": {},
   "outputs": [
    {
     "data": {
      "text/html": [
       "<div>\n",
       "<style scoped>\n",
       "    .dataframe tbody tr th:only-of-type {\n",
       "        vertical-align: middle;\n",
       "    }\n",
       "\n",
       "    .dataframe tbody tr th {\n",
       "        vertical-align: top;\n",
       "    }\n",
       "\n",
       "    .dataframe thead th {\n",
       "        text-align: right;\n",
       "    }\n",
       "</style>\n",
       "<table border=\"1\" class=\"dataframe\">\n",
       "  <thead>\n",
       "    <tr style=\"text-align: right;\">\n",
       "      <th></th>\n",
       "      <th>sl_dash</th>\n",
       "      <th>sw_dash</th>\n",
       "      <th>pl_dash</th>\n",
       "      <th>pw_dash</th>\n",
       "    </tr>\n",
       "  </thead>\n",
       "  <tbody>\n",
       "    <tr>\n",
       "      <th>0</th>\n",
       "      <td>0.156035</td>\n",
       "      <td>0.089587</td>\n",
       "      <td>-0.211560</td>\n",
       "      <td>-0.333849</td>\n",
       "    </tr>\n",
       "    <tr>\n",
       "      <th>1</th>\n",
       "      <td>-0.300067</td>\n",
       "      <td>-1.126232</td>\n",
       "      <td>-0.211560</td>\n",
       "      <td>-0.333849</td>\n",
       "    </tr>\n",
       "    <tr>\n",
       "      <th>2</th>\n",
       "      <td>-0.756169</td>\n",
       "      <td>-0.639905</td>\n",
       "      <td>-0.881499</td>\n",
       "      <td>-0.333849</td>\n",
       "    </tr>\n",
       "    <tr>\n",
       "      <th>3</th>\n",
       "      <td>-0.984220</td>\n",
       "      <td>-0.883069</td>\n",
       "      <td>0.458380</td>\n",
       "      <td>-0.333849</td>\n",
       "    </tr>\n",
       "    <tr>\n",
       "      <th>4</th>\n",
       "      <td>-0.072016</td>\n",
       "      <td>0.332750</td>\n",
       "      <td>-0.211560</td>\n",
       "      <td>-0.333849</td>\n",
       "    </tr>\n",
       "    <tr>\n",
       "      <th>5</th>\n",
       "      <td>0.840188</td>\n",
       "      <td>1.062242</td>\n",
       "      <td>1.798259</td>\n",
       "      <td>1.780528</td>\n",
       "    </tr>\n",
       "    <tr>\n",
       "      <th>6</th>\n",
       "      <td>-0.984220</td>\n",
       "      <td>-0.153577</td>\n",
       "      <td>-0.211560</td>\n",
       "      <td>0.723339</td>\n",
       "    </tr>\n",
       "    <tr>\n",
       "      <th>7</th>\n",
       "      <td>-0.072016</td>\n",
       "      <td>-0.153577</td>\n",
       "      <td>0.458380</td>\n",
       "      <td>-0.333849</td>\n",
       "    </tr>\n",
       "    <tr>\n",
       "      <th>8</th>\n",
       "      <td>-1.440323</td>\n",
       "      <td>-1.369396</td>\n",
       "      <td>-0.211560</td>\n",
       "      <td>-0.333849</td>\n",
       "    </tr>\n",
       "    <tr>\n",
       "      <th>9</th>\n",
       "      <td>-0.300067</td>\n",
       "      <td>-0.883069</td>\n",
       "      <td>0.458380</td>\n",
       "      <td>-1.391037</td>\n",
       "    </tr>\n",
       "    <tr>\n",
       "      <th>10</th>\n",
       "      <td>0.840188</td>\n",
       "      <td>0.575914</td>\n",
       "      <td>0.458380</td>\n",
       "      <td>-0.333849</td>\n",
       "    </tr>\n",
       "    <tr>\n",
       "      <th>11</th>\n",
       "      <td>-0.528118</td>\n",
       "      <td>-0.153577</td>\n",
       "      <td>1.128319</td>\n",
       "      <td>-0.333849</td>\n",
       "    </tr>\n",
       "    <tr>\n",
       "      <th>12</th>\n",
       "      <td>-0.528118</td>\n",
       "      <td>-1.126232</td>\n",
       "      <td>-0.211560</td>\n",
       "      <td>-1.391037</td>\n",
       "    </tr>\n",
       "    <tr>\n",
       "      <th>13</th>\n",
       "      <td>-1.668374</td>\n",
       "      <td>-1.126232</td>\n",
       "      <td>-2.221378</td>\n",
       "      <td>-1.391037</td>\n",
       "    </tr>\n",
       "    <tr>\n",
       "      <th>14</th>\n",
       "      <td>1.752393</td>\n",
       "      <td>1.305406</td>\n",
       "      <td>-1.551439</td>\n",
       "      <td>-0.333849</td>\n",
       "    </tr>\n",
       "    <tr>\n",
       "      <th>15</th>\n",
       "      <td>1.524341</td>\n",
       "      <td>2.278061</td>\n",
       "      <td>0.458380</td>\n",
       "      <td>1.780528</td>\n",
       "    </tr>\n",
       "    <tr>\n",
       "      <th>16</th>\n",
       "      <td>0.840188</td>\n",
       "      <td>1.062242</td>\n",
       "      <td>-0.881499</td>\n",
       "      <td>1.780528</td>\n",
       "    </tr>\n",
       "    <tr>\n",
       "      <th>17</th>\n",
       "      <td>0.156035</td>\n",
       "      <td>0.089587</td>\n",
       "      <td>-0.211560</td>\n",
       "      <td>0.723339</td>\n",
       "    </tr>\n",
       "    <tr>\n",
       "      <th>18</th>\n",
       "      <td>1.524341</td>\n",
       "      <td>0.819078</td>\n",
       "      <td>1.798259</td>\n",
       "      <td>0.723339</td>\n",
       "    </tr>\n",
       "  </tbody>\n",
       "</table>\n",
       "</div>"
      ],
      "text/plain": [
       "     sl_dash   sw_dash   pl_dash   pw_dash\n",
       "0   0.156035  0.089587 -0.211560 -0.333849\n",
       "1  -0.300067 -1.126232 -0.211560 -0.333849\n",
       "2  -0.756169 -0.639905 -0.881499 -0.333849\n",
       "3  -0.984220 -0.883069  0.458380 -0.333849\n",
       "4  -0.072016  0.332750 -0.211560 -0.333849\n",
       "5   0.840188  1.062242  1.798259  1.780528\n",
       "6  -0.984220 -0.153577 -0.211560  0.723339\n",
       "7  -0.072016 -0.153577  0.458380 -0.333849\n",
       "8  -1.440323 -1.369396 -0.211560 -0.333849\n",
       "9  -0.300067 -0.883069  0.458380 -1.391037\n",
       "10  0.840188  0.575914  0.458380 -0.333849\n",
       "11 -0.528118 -0.153577  1.128319 -0.333849\n",
       "12 -0.528118 -1.126232 -0.211560 -1.391037\n",
       "13 -1.668374 -1.126232 -2.221378 -1.391037\n",
       "14  1.752393  1.305406 -1.551439 -0.333849\n",
       "15  1.524341  2.278061  0.458380  1.780528\n",
       "16  0.840188  1.062242 -0.881499  1.780528\n",
       "17  0.156035  0.089587 -0.211560  0.723339\n",
       "18  1.524341  0.819078  1.798259  0.723339"
      ]
     },
     "execution_count": 6,
     "metadata": {},
     "output_type": "execute_result"
    }
   ],
   "source": [
    "# Performing column standardization\n",
    "standard_matrix = pd.DataFrame(list(zip( col_standard(data['sl']), \n",
    "                                         col_standard(data['sw']), \n",
    "                                         col_standard(data['pl']), \n",
    "                                         col_standard(data['pw'])\n",
    "                                       )), \n",
    "                            columns =['sl_dash', \"sw_dash\", \"pl_dash\", \"pw_dash\"])\n",
    "standard_matrix"
   ]
  },
  {
   "cell_type": "code",
   "execution_count": 7,
   "metadata": {},
   "outputs": [],
   "source": [
    "X = standard_matrix.to_numpy()"
   ]
  },
  {
   "cell_type": "code",
   "execution_count": 8,
   "metadata": {},
   "outputs": [
    {
     "data": {
      "text/plain": [
       "array([[ 0.15603496,  0.08958666, -0.21155983, -0.33384893],\n",
       "       [-0.30006722, -1.12623231, -0.21155983, -0.33384893],\n",
       "       [-0.7561694 , -0.63990472, -0.88149931, -0.33384893],\n",
       "       [-0.98422049, -0.88306851,  0.45837964, -0.33384893],\n",
       "       [-0.07201613,  0.33275045, -0.21155983, -0.33384893],\n",
       "       [ 0.84018822,  1.06224184,  1.79825859,  1.78052763],\n",
       "       [-0.98422049, -0.15357713, -0.21155983,  0.72333935],\n",
       "       [-0.07201613, -0.15357713,  0.45837964, -0.33384893],\n",
       "       [-1.44032267, -1.3693961 , -0.21155983, -0.33384893],\n",
       "       [-0.30006722, -0.88306851,  0.45837964, -1.39103721],\n",
       "       [ 0.84018822,  0.57591425,  0.45837964, -0.33384893],\n",
       "       [-0.52811831, -0.15357713,  1.12831911, -0.33384893],\n",
       "       [-0.52811831, -1.12623231, -0.21155983, -1.39103721],\n",
       "       [-1.66837376, -1.12623231, -2.22137825, -1.39103721],\n",
       "       [ 1.75239258,  1.30540563, -1.55143878, -0.33384893],\n",
       "       [ 1.52434149,  2.27806081,  0.45837964,  1.78052763],\n",
       "       [ 0.84018822,  1.06224184, -0.88149931,  1.78052763],\n",
       "       [ 0.15603496,  0.08958666, -0.21155983,  0.72333935],\n",
       "       [ 1.52434149,  0.81907804,  1.79825859,  0.72333935]])"
      ]
     },
     "execution_count": 8,
     "metadata": {},
     "output_type": "execute_result"
    }
   ],
   "source": [
    "X"
   ]
  },
  {
   "cell_type": "code",
   "execution_count": 14,
   "metadata": {},
   "outputs": [
    {
     "data": {
      "text/plain": [
       "(19, 4)"
      ]
     },
     "execution_count": 14,
     "metadata": {},
     "output_type": "execute_result"
    }
   ],
   "source": [
    "X.shape\n",
    "\n",
    "# n = 19\n",
    "# d = 4"
   ]
  },
  {
   "cell_type": "code",
   "execution_count": 15,
   "metadata": {},
   "outputs": [],
   "source": [
    "n = 19\n",
    "S = (np.dot(X.transpose(), X)) / n    # calculating Co-variance Matrix S"
   ]
  },
  {
   "cell_type": "code",
   "execution_count": 16,
   "metadata": {},
   "outputs": [
    {
     "data": {
      "text/plain": [
       "array([[0.94736842, 0.83825821, 0.29836621, 0.53427798],\n",
       "       [0.83825821, 0.94736842, 0.23330165, 0.70640818],\n",
       "       [0.29836621, 0.23330165, 0.94736842, 0.3394117 ],\n",
       "       [0.53427798, 0.70640818, 0.3394117 , 0.94736842]])"
      ]
     },
     "execution_count": 16,
     "metadata": {},
     "output_type": "execute_result"
    }
   ],
   "source": [
    "S"
   ]
  },
  {
   "cell_type": "code",
   "execution_count": null,
   "metadata": {},
   "outputs": [],
   "source": []
  },
  {
   "cell_type": "code",
   "execution_count": 28,
   "metadata": {},
   "outputs": [
    {
     "name": "stdout",
     "output_type": "stream",
     "text": [
      "[[ 0.15603496 -0.30006722 -0.7561694  -0.98422049 -0.07201613  0.84018822\n",
      "  -0.98422049 -0.07201613 -1.44032267 -0.30006722  0.84018822 -0.52811831\n",
      "  -0.52811831 -1.66837376  1.75239258  1.52434149  0.84018822  0.15603496\n",
      "   1.52434149]\n",
      " [ 0.08958666 -1.12623231 -0.63990472 -0.88306851  0.33275045  1.06224184\n",
      "  -0.15357713 -0.15357713 -1.3693961  -0.88306851  0.57591425 -0.15357713\n",
      "  -1.12623231 -1.12623231  1.30540563  2.27806081  1.06224184  0.08958666\n",
      "   0.81907804]\n",
      " [-0.21155983 -0.21155983 -0.88149931  0.45837964 -0.21155983  1.79825859\n",
      "  -0.21155983  0.45837964 -0.21155983  0.45837964  0.45837964  1.12831911\n",
      "  -0.21155983 -2.22137825 -1.55143878  0.45837964 -0.88149931 -0.21155983\n",
      "   1.79825859]\n",
      " [-0.33384893 -0.33384893 -0.33384893 -0.33384893 -0.33384893  1.78052763\n",
      "   0.72333935 -0.33384893 -0.33384893 -1.39103721 -0.33384893 -0.33384893\n",
      "  -1.39103721 -1.39103721 -0.33384893  1.78052763  1.78052763  0.72333935\n",
      "   0.72333935]]\n"
     ]
    }
   ],
   "source": [
    "print(X.transpose()) \n",
    "\n",
    "# 19 columns: x0,x1,x2......x18\n",
    "# 4 rows: f1, f2, f3, f4"
   ]
  },
  {
   "cell_type": "code",
   "execution_count": 31,
   "metadata": {},
   "outputs": [
    {
     "data": {
      "text/plain": [
       "array([[18.        , 15.92690591,  5.66895793, 10.15128163],\n",
       "       [15.92690591, 18.        ,  4.43273144, 13.42175546],\n",
       "       [ 5.66895793,  4.43273144, 18.        ,  6.44882229],\n",
       "       [10.15128163, 13.42175546,  6.44882229, 18.        ]])"
      ]
     },
     "execution_count": 31,
     "metadata": {},
     "output_type": "execute_result"
    }
   ],
   "source": [
    "np.dot(X.transpose(), X)"
   ]
  },
  {
   "cell_type": "code",
   "execution_count": 27,
   "metadata": {},
   "outputs": [
    {
     "data": {
      "text/plain": [
       "array([[0.94736842, 0.83825821, 0.29836621, 0.53427798],\n",
       "       [0.83825821, 0.94736842, 0.23330165, 0.70640818],\n",
       "       [0.29836621, 0.23330165, 0.94736842, 0.3394117 ],\n",
       "       [0.53427798, 0.70640818, 0.3394117 , 0.94736842]])"
      ]
     },
     "execution_count": 27,
     "metadata": {},
     "output_type": "execute_result"
    }
   ],
   "source": [
    "np.dot(X.transpose(), X) / n"
   ]
  },
  {
   "cell_type": "code",
   "execution_count": 29,
   "metadata": {},
   "outputs": [
    {
     "data": {
      "text/plain": [
       "array([[0.0498615 , 0.04411885, 0.01570348, 0.02811989],\n",
       "       [0.04411885, 0.0498615 , 0.01227903, 0.03717938],\n",
       "       [0.01570348, 0.01227903, 0.0498615 , 0.01786377],\n",
       "       [0.02811989, 0.03717938, 0.01786377, 0.0498615 ]])"
      ]
     },
     "execution_count": 29,
     "metadata": {},
     "output_type": "execute_result"
    }
   ],
   "source": [
    "np.dot(X.transpose()/n, X/n)"
   ]
  },
  {
   "cell_type": "code",
   "execution_count": null,
   "metadata": {},
   "outputs": [],
   "source": []
  }
 ],
 "metadata": {
  "kernelspec": {
   "display_name": "Python 3",
   "language": "python",
   "name": "python3"
  },
  "language_info": {
   "codemirror_mode": {
    "name": "ipython",
    "version": 3
   },
   "file_extension": ".py",
   "mimetype": "text/x-python",
   "name": "python",
   "nbconvert_exporter": "python",
   "pygments_lexer": "ipython3",
   "version": "3.7.7"
  }
 },
 "nbformat": 4,
 "nbformat_minor": 4
}
