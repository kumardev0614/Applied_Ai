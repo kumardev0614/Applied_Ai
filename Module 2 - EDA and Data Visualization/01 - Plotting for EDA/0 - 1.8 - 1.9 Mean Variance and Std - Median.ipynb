{
 "cells": [
  {
   "cell_type": "code",
   "execution_count": 2,
   "metadata": {},
   "outputs": [],
   "source": [
    "import pandas as pd\n",
    "import numpy as np\n",
    "\n",
    "iris = pd.read_csv('iris.csv')\n",
    "\n",
    "setosa = iris.loc[ iris.species == 'setosa' ]\n",
    "versi = iris.loc[ iris.species == 'versicolor' ]\n",
    "virgi = iris.loc[ iris.species == 'virginica' ]"
   ]
  },
  {
   "cell_type": "markdown",
   "metadata": {},
   "source": [
    "# Central Tendency and Spread\n",
    "https://statistics.laerd.com/statistical-guides/measures-central-tendency-mean-mode-median.php\n",
    "\n",
    "https://statistics.laerd.com/statistical-guides/measures-of-spread-range-quartiles.php"
   ]
  },
  {
   "cell_type": "markdown",
   "metadata": {},
   "source": [
    "# Mean"
   ]
  },
  {
   "cell_type": "code",
   "execution_count": 6,
   "metadata": {},
   "outputs": [],
   "source": [
    "# We know what mean is.\n",
    "# It is badly affected by just one outlier. Not a reliable measure of central tendency."
   ]
  },
  {
   "cell_type": "code",
   "execution_count": 6,
   "metadata": {},
   "outputs": [
    {
     "name": "stdout",
     "output_type": "stream",
     "text": [
      "setosa-- 1.464\n",
      "versi--- 4.26\n",
      "virgi--- 5.552\n",
      "setosa-- 2.4156862745098038 with outlier!!!\n"
     ]
    }
   ],
   "source": [
    "print('setosa--', np.mean(setosa.petal_length))\n",
    "print('versi---', np.mean(versi.petal_length))\n",
    "print('virgi---', np.mean(virgi.petal_length))\n",
    "\n",
    "# including an outlier in same data.\n",
    "print('setosa--', np.mean(np.append(setosa.petal_length, 50)), 'with outlier!!!')"
   ]
  },
  {
   "cell_type": "code",
   "execution_count": 8,
   "metadata": {},
   "outputs": [
    {
     "data": {
      "text/plain": [
       "1.9"
      ]
     },
     "execution_count": 8,
     "metadata": {},
     "output_type": "execute_result"
    }
   ],
   "source": [
    "max(setosa.petal_length)"
   ]
  },
  {
   "cell_type": "code",
   "execution_count": 9,
   "metadata": {},
   "outputs": [],
   "source": [
    "# We can see including only one outlier 50 in same data mean become 2.41 which higher than the max value in dataset.\n",
    "# That's why mean is not a reliable measure for central tendency."
   ]
  },
  {
   "cell_type": "markdown",
   "metadata": {},
   "source": [
    "# Standard Deviation"
   ]
  },
  {
   "cell_type": "code",
   "execution_count": 7,
   "metadata": {},
   "outputs": [
    {
     "name": "stdout",
     "output_type": "stream",
     "text": [
      "setosa-- 0.17176728442867115\n",
      "versi--- 0.4651881339845204\n",
      "virgi--- 0.5463478745268441\n",
      "setosa-- 6.731587015311736 with outlier!!!\n"
     ]
    }
   ],
   "source": [
    "print('setosa--', np.std(setosa.petal_length))\n",
    "print('versi---', np.std(versi.petal_length))\n",
    "print('virgi---', np.std(virgi.petal_length))\n",
    "\n",
    "# including an outlier in same data.\n",
    "print('setosa--', np.std(np.append(setosa.petal_length, 50)), 'with outlier!!!')"
   ]
  },
  {
   "cell_type": "code",
   "execution_count": 11,
   "metadata": {},
   "outputs": [],
   "source": [
    "# We can see Standard Deviation is also affected so much because of one outlier."
   ]
  },
  {
   "cell_type": "markdown",
   "metadata": {},
   "source": [
    "# Variance"
   ]
  },
  {
   "cell_type": "code",
   "execution_count": 8,
   "metadata": {},
   "outputs": [
    {
     "name": "stdout",
     "output_type": "stream",
     "text": [
      "setosa-- 0.02950400000000001\n",
      "versi--- 0.21640000000000012\n",
      "virgi--- 0.2984960000000002\n",
      "setosa-- 45.31426374471357 with outlier!!!\n"
     ]
    }
   ],
   "source": [
    "print('setosa--', np.var(setosa.petal_length))\n",
    "print('versi---', np.var(versi.petal_length))\n",
    "print('virgi---', np.var(virgi.petal_length))\n",
    "\n",
    "# including an outlier in same data.\n",
    "print('setosa--', np.var(np.append(setosa.petal_length, 50)), 'with outlier!!!')"
   ]
  },
  {
   "cell_type": "markdown",
   "metadata": {},
   "source": [
    "# Median"
   ]
  },
  {
   "cell_type": "code",
   "execution_count": 9,
   "metadata": {},
   "outputs": [
    {
     "name": "stdout",
     "output_type": "stream",
     "text": [
      "setosa-- 1.5\n",
      "versi--- 4.35\n",
      "virgi--- 5.55\n",
      "setosa-- 1.5 with outlier!!!\n"
     ]
    }
   ],
   "source": [
    "print('setosa--', np.median(setosa.petal_length))\n",
    "print('versi---', np.median(versi.petal_length))\n",
    "print('virgi---', np.median(virgi.petal_length))\n",
    "\n",
    "# including an outlier in same data.\n",
    "print('setosa--', np.median(np.append(setosa.petal_length, 50)), 'with outlier!!!')"
   ]
  },
  {
   "cell_type": "code",
   "execution_count": 4,
   "metadata": {},
   "outputs": [],
   "source": [
    "# We can see median is very close to mean as a measure of central tendency.\n",
    "# The best thing about median is that it does not affected by the outlier that much."
   ]
  },
  {
   "cell_type": "code",
   "execution_count": null,
   "metadata": {},
   "outputs": [],
   "source": []
  }
 ],
 "metadata": {
  "kernelspec": {
   "display_name": "Python 3",
   "language": "python",
   "name": "python3"
  },
  "language_info": {
   "codemirror_mode": {
    "name": "ipython",
    "version": 3
   },
   "file_extension": ".py",
   "mimetype": "text/x-python",
   "name": "python",
   "nbconvert_exporter": "python",
   "pygments_lexer": "ipython3",
   "version": "3.7.7"
  }
 },
 "nbformat": 4,
 "nbformat_minor": 4
}
